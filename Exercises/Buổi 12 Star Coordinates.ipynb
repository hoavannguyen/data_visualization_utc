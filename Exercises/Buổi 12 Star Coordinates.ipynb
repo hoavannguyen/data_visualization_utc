{
 "cells": [
  {
   "cell_type": "code",
   "execution_count": 1,
   "id": "9938d580",
   "metadata": {},
   "outputs": [],
   "source": [
    "from sklearn.datasets import load_iris\n",
    "from sklearn.preprocessing import MinMaxScaler\n",
    "import pandas as pd\n",
    "import numpy as np"
   ]
  },
  {
   "cell_type": "code",
   "execution_count": 2,
   "id": "a9508fd1",
   "metadata": {},
   "outputs": [],
   "source": [
    "import math"
   ]
  },
  {
   "cell_type": "code",
   "execution_count": 3,
   "id": "e54140f2",
   "metadata": {},
   "outputs": [
    {
     "data": {
      "text/html": [
       "<div>\n",
       "<style scoped>\n",
       "    .dataframe tbody tr th:only-of-type {\n",
       "        vertical-align: middle;\n",
       "    }\n",
       "\n",
       "    .dataframe tbody tr th {\n",
       "        vertical-align: top;\n",
       "    }\n",
       "\n",
       "    .dataframe thead th {\n",
       "        text-align: right;\n",
       "    }\n",
       "</style>\n",
       "<table border=\"1\" class=\"dataframe\">\n",
       "  <thead>\n",
       "    <tr style=\"text-align: right;\">\n",
       "      <th></th>\n",
       "      <th>sepal length (cm)</th>\n",
       "      <th>sepal width (cm)</th>\n",
       "      <th>petal length (cm)</th>\n",
       "      <th>petal width (cm)</th>\n",
       "      <th>FlowerType</th>\n",
       "    </tr>\n",
       "  </thead>\n",
       "  <tbody>\n",
       "    <tr>\n",
       "      <th>0</th>\n",
       "      <td>5.1</td>\n",
       "      <td>3.5</td>\n",
       "      <td>1.4</td>\n",
       "      <td>0.2</td>\n",
       "      <td>0.0</td>\n",
       "    </tr>\n",
       "    <tr>\n",
       "      <th>1</th>\n",
       "      <td>4.9</td>\n",
       "      <td>3.0</td>\n",
       "      <td>1.4</td>\n",
       "      <td>0.2</td>\n",
       "      <td>0.0</td>\n",
       "    </tr>\n",
       "    <tr>\n",
       "      <th>2</th>\n",
       "      <td>4.7</td>\n",
       "      <td>3.2</td>\n",
       "      <td>1.3</td>\n",
       "      <td>0.2</td>\n",
       "      <td>0.0</td>\n",
       "    </tr>\n",
       "    <tr>\n",
       "      <th>3</th>\n",
       "      <td>4.6</td>\n",
       "      <td>3.1</td>\n",
       "      <td>1.5</td>\n",
       "      <td>0.2</td>\n",
       "      <td>0.0</td>\n",
       "    </tr>\n",
       "    <tr>\n",
       "      <th>4</th>\n",
       "      <td>5.0</td>\n",
       "      <td>3.6</td>\n",
       "      <td>1.4</td>\n",
       "      <td>0.2</td>\n",
       "      <td>0.0</td>\n",
       "    </tr>\n",
       "  </tbody>\n",
       "</table>\n",
       "</div>"
      ],
      "text/plain": [
       "   sepal length (cm)  sepal width (cm)  petal length (cm)  petal width (cm)  \\\n",
       "0                5.1               3.5                1.4               0.2   \n",
       "1                4.9               3.0                1.4               0.2   \n",
       "2                4.7               3.2                1.3               0.2   \n",
       "3                4.6               3.1                1.5               0.2   \n",
       "4                5.0               3.6                1.4               0.2   \n",
       "\n",
       "   FlowerType  \n",
       "0         0.0  \n",
       "1         0.0  \n",
       "2         0.0  \n",
       "3         0.0  \n",
       "4         0.0  "
      ]
     },
     "execution_count": 3,
     "metadata": {},
     "output_type": "execute_result"
    }
   ],
   "source": [
    "iris = load_iris()\n",
    "iris_data = np.hstack((iris.data,iris.target.reshape(-1,1)))\n",
    "iris_df = pd.DataFrame(data = iris_data, columns = iris.feature_names+['FlowerType'])\n",
    "iris_df.head()"
   ]
  },
  {
   "cell_type": "code",
   "execution_count": 4,
   "id": "b0b2395d",
   "metadata": {},
   "outputs": [
    {
     "data": {
      "text/html": [
       "<div>\n",
       "<style scoped>\n",
       "    .dataframe tbody tr th:only-of-type {\n",
       "        vertical-align: middle;\n",
       "    }\n",
       "\n",
       "    .dataframe tbody tr th {\n",
       "        vertical-align: top;\n",
       "    }\n",
       "\n",
       "    .dataframe thead th {\n",
       "        text-align: right;\n",
       "    }\n",
       "</style>\n",
       "<table border=\"1\" class=\"dataframe\">\n",
       "  <thead>\n",
       "    <tr style=\"text-align: right;\">\n",
       "      <th></th>\n",
       "      <th>sepal length (cm)</th>\n",
       "      <th>sepal width (cm)</th>\n",
       "      <th>petal length (cm)</th>\n",
       "      <th>petal width (cm)</th>\n",
       "      <th>FlowerType</th>\n",
       "    </tr>\n",
       "  </thead>\n",
       "  <tbody>\n",
       "    <tr>\n",
       "      <th>0</th>\n",
       "      <td>0.222222</td>\n",
       "      <td>0.625000</td>\n",
       "      <td>0.067797</td>\n",
       "      <td>0.041667</td>\n",
       "      <td>0.0</td>\n",
       "    </tr>\n",
       "    <tr>\n",
       "      <th>1</th>\n",
       "      <td>0.166667</td>\n",
       "      <td>0.416667</td>\n",
       "      <td>0.067797</td>\n",
       "      <td>0.041667</td>\n",
       "      <td>0.0</td>\n",
       "    </tr>\n",
       "  </tbody>\n",
       "</table>\n",
       "</div>"
      ],
      "text/plain": [
       "   sepal length (cm)  sepal width (cm)  petal length (cm)  petal width (cm)  \\\n",
       "0           0.222222          0.625000           0.067797          0.041667   \n",
       "1           0.166667          0.416667           0.067797          0.041667   \n",
       "\n",
       "   FlowerType  \n",
       "0         0.0  \n",
       "1         0.0  "
      ]
     },
     "execution_count": 4,
     "metadata": {},
     "output_type": "execute_result"
    }
   ],
   "source": [
    "iris_data_scaled = MinMaxScaler().fit_transform(iris.data)\n",
    "iris_data_scaled = np.hstack((iris_data_scaled,iris.target.reshape(-1,1)))\n",
    "\n",
    "iris_scaled_df = pd.DataFrame(data= iris_data_scaled,columns= iris.feature_names+['FlowerType'])\n",
    "iris_scaled_df.head(2)"
   ]
  },
  {
   "cell_type": "code",
   "execution_count": 5,
   "id": "4f93755f",
   "metadata": {},
   "outputs": [],
   "source": [
    "X = iris_scaled_df.drop(['FlowerType'],axis=1).to_numpy()"
   ]
  },
  {
   "cell_type": "code",
   "execution_count": 6,
   "id": "81118eb8",
   "metadata": {},
   "outputs": [],
   "source": [
    "n ,m = X.shape"
   ]
  },
  {
   "cell_type": "code",
   "execution_count": 7,
   "id": "439abe51",
   "metadata": {},
   "outputs": [
    {
     "data": {
      "text/plain": [
       "(150, 4)"
      ]
     },
     "execution_count": 7,
     "metadata": {},
     "output_type": "execute_result"
    }
   ],
   "source": [
    "X.shape"
   ]
  },
  {
   "cell_type": "code",
   "execution_count": 8,
   "id": "829487df",
   "metadata": {},
   "outputs": [],
   "source": [
    "V = np.zeros((4,2))"
   ]
  },
  {
   "cell_type": "code",
   "execution_count": 9,
   "id": "ab157152",
   "metadata": {},
   "outputs": [],
   "source": [
    "for i in range(len(V)):\n",
    "    V[i][0]= np.cos(2*math.pi*(i)/m)\n",
    "    V[i][1]= np.sin(2*math.pi*(i)/m)"
   ]
  },
  {
   "cell_type": "code",
   "execution_count": 10,
   "id": "221201ad",
   "metadata": {},
   "outputs": [
    {
     "data": {
      "text/plain": [
       "array([[ 1.0000000e+00,  0.0000000e+00],\n",
       "       [ 6.1232340e-17,  1.0000000e+00],\n",
       "       [-1.0000000e+00,  1.2246468e-16],\n",
       "       [-1.8369702e-16, -1.0000000e+00]])"
      ]
     },
     "execution_count": 10,
     "metadata": {},
     "output_type": "execute_result"
    }
   ],
   "source": [
    "V"
   ]
  },
  {
   "cell_type": "code",
   "execution_count": 11,
   "id": "509cc769",
   "metadata": {},
   "outputs": [],
   "source": [
    "Y = X.dot(V)"
   ]
  },
  {
   "cell_type": "code",
   "execution_count": 12,
   "id": "853c4bb5",
   "metadata": {},
   "outputs": [
    {
     "data": {
      "text/plain": [
       "array([[ 0.15442561,  0.58333333],\n",
       "       [ 0.09887006,  0.375     ],\n",
       "       [ 0.06026365,  0.45833333],\n",
       "       [-0.00141243,  0.41666667],\n",
       "       [ 0.12664783,  0.625     ],\n",
       "       [ 0.18691149,  0.66666667],\n",
       "       [ 0.01553672,  0.5       ],\n",
       "       [ 0.10969868,  0.54166667],\n",
       "       [-0.04001883,  0.33333333],\n",
       "       [ 0.0819209 ,  0.45833333],\n",
       "       [ 0.22080979,  0.66666667],\n",
       "       [ 0.03719397,  0.54166667],\n",
       "       [ 0.07109228,  0.41666667],\n",
       "       [-0.01694915,  0.41666667],\n",
       "       [ 0.38276836,  0.79166667],\n",
       "       [ 0.30414313,  0.875     ],\n",
       "       [ 0.2547081 ,  0.66666667],\n",
       "       [ 0.15442561,  0.54166667],\n",
       "       [ 0.27024482,  0.66666667],\n",
       "       [ 0.13747646,  0.66666667],\n",
       "       [ 0.18691149,  0.54166667],\n",
       "       [ 0.13747646,  0.58333333],\n",
       "       [ 0.08333333,  0.625     ],\n",
       "       [ 0.10357815,  0.375     ],\n",
       "       [-0.01365348,  0.54166667],\n",
       "       [ 0.09274953,  0.375     ],\n",
       "       [ 0.09274953,  0.45833333],\n",
       "       [ 0.16525424,  0.58333333],\n",
       "       [ 0.18220339,  0.54166667],\n",
       "       [ 0.0094162 ,  0.45833333],\n",
       "       [ 0.03719397,  0.41666667],\n",
       "       [ 0.22080979,  0.45833333],\n",
       "       [ 0.16525424,  0.875     ],\n",
       "       [ 0.26553672,  0.875     ],\n",
       "       [ 0.0819209 ,  0.41666667],\n",
       "       [ 0.16054614,  0.45833333],\n",
       "       [ 0.28248588,  0.58333333],\n",
       "       [ 0.09887006,  0.66666667],\n",
       "       [-0.02306968,  0.375     ],\n",
       "       [ 0.13747646,  0.54166667],\n",
       "       [ 0.14359699,  0.54166667],\n",
       "       [ 0.0047081 ,  0.04166667],\n",
       "       [-0.02306968,  0.45833333],\n",
       "       [ 0.09274953,  0.41666667],\n",
       "       [ 0.06967985,  0.625     ],\n",
       "       [ 0.07109228,  0.33333333],\n",
       "       [ 0.12052731,  0.70833333],\n",
       "       [ 0.01553672,  0.45833333],\n",
       "       [ 0.19303202,  0.66666667],\n",
       "       [ 0.12664783,  0.5       ],\n",
       "       [ 0.12288136, -0.04166667],\n",
       "       [-0.00988701, -0.08333333],\n",
       "       [ 0.06120527, -0.125     ],\n",
       "       [-0.17514124, -0.375     ],\n",
       "       [ 0.00094162, -0.25      ],\n",
       "       [-0.20433145, -0.16666667],\n",
       "       [-0.07156309, -0.08333333],\n",
       "       [-0.22316384, -0.20833333],\n",
       "       [ 0.0287194 , -0.125     ],\n",
       "       [-0.24152542, -0.25      ],\n",
       "       [-0.22928437, -0.375     ],\n",
       "       [-0.09792844, -0.16666667],\n",
       "       [-0.03625235, -0.29166667],\n",
       "       [-0.12711864, -0.16666667],\n",
       "       [-0.07956685, -0.125     ],\n",
       "       [ 0.09039548, -0.08333333],\n",
       "       [-0.23210923, -0.16666667],\n",
       "       [-0.10875706, -0.08333333],\n",
       "       [-0.06544256, -0.5       ],\n",
       "       [-0.13041431, -0.20833333],\n",
       "       [-0.19962335, -0.20833333],\n",
       "       [-0.00847458, -0.16666667],\n",
       "       [-0.10546139, -0.375     ],\n",
       "       [-0.12711864, -0.125     ],\n",
       "       [ 0.0240113 , -0.125     ],\n",
       "       [ 0.0626177 , -0.125     ],\n",
       "       [ 0.05037665, -0.20833333],\n",
       "       [-0.01129944, -0.25      ],\n",
       "       [-0.12099812, -0.20833333],\n",
       "       [-0.03483992, -0.125     ],\n",
       "       [-0.14124294, -0.25      ],\n",
       "       [-0.12429379, -0.20833333],\n",
       "       [-0.07485876, -0.16666667],\n",
       "       [-0.22269303, -0.33333333],\n",
       "       [-0.28766478, -0.16666667],\n",
       "       [-0.12099812, -0.04166667],\n",
       "       [ 0.03954802, -0.125     ],\n",
       "       [-0.02071563, -0.375     ],\n",
       "       [-0.16431262, -0.08333333],\n",
       "       [-0.17514124, -0.29166667],\n",
       "       [-0.24293785, -0.20833333],\n",
       "       [-0.11016949, -0.125     ],\n",
       "       [-0.09180791, -0.20833333],\n",
       "       [-0.19538606, -0.25      ],\n",
       "       [-0.18126177, -0.20833333],\n",
       "       [-0.15348399, -0.04166667],\n",
       "       [-0.15348399, -0.125     ],\n",
       "       [-0.03154426, -0.125     ],\n",
       "       [-0.11676083, -0.20833333],\n",
       "       [-0.13653484, -0.16666667],\n",
       "       [-0.29190207, -0.45833333],\n",
       "       [-0.27824859, -0.45833333],\n",
       "       [-0.0527307 , -0.41666667],\n",
       "       [-0.22410546, -0.33333333],\n",
       "       [-0.20244821, -0.45833333],\n",
       "       [-0.03248588, -0.41666667],\n",
       "       [-0.42655367, -0.45833333],\n",
       "       [-0.06497175, -0.33333333],\n",
       "       [-0.14689266, -0.5       ],\n",
       "       [-0.05885122, -0.33333333],\n",
       "       [-0.08380414, -0.29166667],\n",
       "       [-0.14548023, -0.45833333],\n",
       "       [-0.06826742, -0.41666667],\n",
       "       [-0.28907721, -0.58333333],\n",
       "       [-0.27824859, -0.625     ],\n",
       "       [-0.14548023, -0.41666667],\n",
       "       [-0.15160075, -0.29166667],\n",
       "       [-0.02165725, -0.125     ],\n",
       "       [-0.05555556, -0.66666667],\n",
       "       [-0.20574388, -0.5       ],\n",
       "       [-0.07438795, -0.41666667],\n",
       "       [-0.29990584, -0.45833333],\n",
       "       [-0.02165725, -0.45833333],\n",
       "       [-0.10546139, -0.41666667],\n",
       "       [-0.1299435 , -0.29166667],\n",
       "       [-0.04190207, -0.20833333],\n",
       "       [-0.11629002, -0.375     ],\n",
       "       [-0.16101695, -0.29166667],\n",
       "       [-0.19632768, -0.5       ],\n",
       "       [-0.00800377, -0.20833333],\n",
       "       [-0.00329567, -0.41666667],\n",
       "       [ 0.08474576, -0.04166667],\n",
       "       [-0.19632768, -0.54166667],\n",
       "       [-0.1393597 , -0.25      ],\n",
       "       [-0.27966102, -0.29166667],\n",
       "       [ 0.08003766, -0.5       ],\n",
       "       [-0.22410546, -0.375     ],\n",
       "       [-0.17937853, -0.25      ],\n",
       "       [-0.17184557, -0.29166667],\n",
       "       [-0.02354049, -0.375     ],\n",
       "       [-0.11299435, -0.5       ],\n",
       "       [ 0.02730697, -0.45833333],\n",
       "       [-0.27824859, -0.45833333],\n",
       "       [-0.13606403, -0.41666667],\n",
       "       [-0.1299435 , -0.45833333],\n",
       "       [-0.04519774, -0.5       ],\n",
       "       [-0.12241055, -0.54166667],\n",
       "       [-0.1007533 , -0.375     ],\n",
       "       [-0.21798493, -0.33333333],\n",
       "       [-0.25047081, -0.29166667]])"
      ]
     },
     "execution_count": 12,
     "metadata": {},
     "output_type": "execute_result"
    }
   ],
   "source": [
    "Y"
   ]
  },
  {
   "cell_type": "code",
   "execution_count": 13,
   "id": "4c4f18a7",
   "metadata": {},
   "outputs": [],
   "source": [
    "import matplotlib.pyplot as plt"
   ]
  },
  {
   "cell_type": "code",
   "execution_count": 14,
   "id": "1a527ee2",
   "metadata": {},
   "outputs": [
    {
     "data": {
      "image/png": "[encoded data removed]",
      "text/plain": [
       "<Figure size 1080x1080 with 1 Axes>"
      ]
     },
     "metadata": {
      "needs_background": "light"
     },
     "output_type": "display_data"
    }
   ],
   "source": [
    "fig = plt.figure(figsize=(15,15))\n",
    "plt.scatter(Y[:,0],Y[:,1])\n",
    "texts=['sepal length', 'sepal width', 'petal length','petal width']\n",
    "colors=['r','b','g','y']\n",
    "for i in range(len(V)):\n",
    "    plt.plot([0,V[i][0]],[0,V[i][1]],'-')\n",
    "    plt.text(V[i][0], V[i][1], texts[i],fontsize=12, c=colors[i])\n",
    "plt.show()"
   ]
  },
  {
   "cell_type": "code",
   "execution_count": 15,
   "id": "dd51f80b",
   "metadata": {},
   "outputs": [
    {
     "ename": "NameError",
     "evalue": "name 'data' is not defined",
     "output_type": "error",
     "traceback": [
      "\u001b[1;31m---------------------------------------------------------------------------\u001b[0m",
      "\u001b[1;31mNameError\u001b[0m                                 Traceback (most recent call last)",
      "Input \u001b[1;32mIn [15]\u001b[0m, in \u001b[0;36m<cell line: 1>\u001b[1;34m()\u001b[0m\n\u001b[1;32m----> 1\u001b[0m x1 \u001b[38;5;241m=\u001b[39m \u001b[43mdata\u001b[49m[:, \u001b[38;5;241m0\u001b[39m]\n\u001b[0;32m      2\u001b[0m x2 \u001b[38;5;241m=\u001b[39m data[:, \u001b[38;5;241m1\u001b[39m]\n\u001b[0;32m      3\u001b[0m y \u001b[38;5;241m=\u001b[39m data[:, \u001b[38;5;241m-\u001b[39m\u001b[38;5;241m1\u001b[39m]\u001b[38;5;241m.\u001b[39mastype(\u001b[38;5;28mint\u001b[39m)\n",
      "\u001b[1;31mNameError\u001b[0m: name 'data' is not defined"
     ]
    }
   ],
   "source": [
    "x1 = data[:, 0]\n",
    "x2 = data[:, 1]\n",
    "y = data[:, -1].astype(int)\n",
    "\n",
    "plt.scatter(x1[y==0], x2[y==0], s=3, c='r')\n",
    "plt.scatter(x1[y==1], x2[y==1], s=3, c='b')"
   ]
  },
  {
   "cell_type": "code",
   "execution_count": null,
   "id": "089a57be",
   "metadata": {},
   "outputs": [],
   "source": []
  },
  {
   "cell_type": "code",
   "execution_count": null,
   "id": "47f93e31",
   "metadata": {},
   "outputs": [],
   "source": []
  },
  {
   "cell_type": "code",
   "execution_count": null,
   "id": "3f739ef1",
   "metadata": {},
   "outputs": [],
   "source": []
  },
  {
   "cell_type": "code",
   "execution_count": null,
   "id": "7cc810b8",
   "metadata": {},
   "outputs": [],
   "source": []
  }
 ],
 "metadata": {
  "kernelspec": {
   "display_name": "Python 3 (ipykernel)",
   "language": "python",
   "name": "python3"
  },
  "language_info": {
   "codemirror_mode": {
    "name": "ipython",
    "version": 3
   },
   "file_extension": ".py",
   "mimetype": "text/x-python",
   "name": "python",
   "nbconvert_exporter": "python",
   "pygments_lexer": "ipython3",
   "version": "3.8.13"
  }
 },
 "nbformat": 4,
 "nbformat_minor": 5
}
