{
 "cells": [
  {
   "cell_type": "code",
   "execution_count": 1,
   "id": "20b0df89",
   "metadata": {},
   "outputs": [],
   "source": [
    "import pandas as pd\n",
    "import numpy as np\n",
    "import matplotlib.pyplot as plt\n",
    "import seaborn as sns\n",
    "from bokeh.plotting import figure,show"
   ]
  },
  {
   "cell_type": "code",
   "execution_count": 2,
   "id": "e2df96fc",
   "metadata": {},
   "outputs": [
    {
     "data": {
      "text/html": [
       "\n",
       "    <div class=\"bk-root\">\n",
       "        <a href=\"https://bokeh.org\" target=\"_blank\" class=\"bk-logo bk-logo-small bk-logo-notebook\"></a>\n",
       "        <span id=\"1002\">Loading BokehJS ...</span>\n",
       "    </div>"
      ]
     },
     "metadata": {},
     "output_type": "display_data"
    },
    {
     "data": {
      "application/javascript": [
       "\n",
       "(function(root) {\n",
       "  function now() {\n",
       "    return new Date();\n",
       "  }\n",
       "\n",
       "  var force = true;\n",
       "\n",
       "  if (typeof root._bokeh_onload_callbacks === \"undefined\" || force === true) {\n",
       "    root._bokeh_onload_callbacks = [];\n",
       "    root._bokeh_is_loading = undefined;\n",
       "  }\n",
       "\n",
       "  var JS_MIME_TYPE = 'application/javascript';\n",
       "  var HTML_MIME_TYPE = 'text/html';\n",
       "  var EXEC_MIME_TYPE = 'application/vnd.bokehjs_exec.v0+json';\n",
       "  var CLASS_NAME = 'output_bokeh rendered_html';\n",
       "\n",
       "  /**\n",
       "   * Render data to the DOM node\n",
       "   */\n",
       "  function render(props, node) {\n",
       "    var script = document.createElement(\"script\");\n",
       "    node.appendChild(script);\n",
       "  }\n",
       "\n",
       "  /**\n",
       "   * Handle when an output is cleared or removed\n",
       "   */\n",
       "  function handleClearOutput(event, handle) {\n",
       "    var cell = handle.cell;\n",
       "\n",
       "    var id = cell.output_area._bokeh_element_id;\n",
       "    var server_id = cell.output_area._bokeh_server_id;\n",
       "    // Clean up Bokeh references\n",
       "    if (id != null && id in Bokeh.index) {\n",
       "      Bokeh.index[id].model.document.clear();\n",
       "      delete Bokeh.index[id];\n",
       "    }\n",
       "\n",
       "    if (server_id !== undefined) {\n",
       "      // Clean up Bokeh references\n",
       "      var cmd = \"from bokeh.io.state import curstate; print(curstate().uuid_to_server['\" + server_id + \"'].get_sessions()[0].document.roots[0]._id)\";\n",
       "      cell.notebook.kernel.execute(cmd, {\n",
       "        iopub: {\n",
       "          output: function(msg) {\n",
       "            var id = msg.content.text.trim();\n",
       "            if (id in Bokeh.index) {\n",
       "              Bokeh.index[id].model.document.clear();\n",
       "              delete Bokeh.index[id];\n",
       "            }\n",
       "          }\n",
       "        }\n",
       "      });\n",
       "      // Destroy server and session\n",
       "      var cmd = \"import bokeh.io.notebook as ion; ion.destroy_server('\" + server_id + \"')\";\n",
       "      cell.notebook.kernel.execute(cmd);\n",
       "    }\n",
       "  }\n",
       "\n",
       "  /**\n",
       "   * Handle when a new output is added\n",
       "   */\n",
       "  function handleAddOutput(event, handle) {\n",
       "    var output_area = handle.output_area;\n",
       "    var output = handle.output;\n",
       "\n",
       "    // limit handleAddOutput to display_data with EXEC_MIME_TYPE content only\n",
       "    if ((output.output_type != \"display_data\") || (!Object.prototype.hasOwnProperty.call(output.data, EXEC_MIME_TYPE))) {\n",
       "      return\n",
       "    }\n",
       "\n",
       "    var toinsert = output_area.element.find(\".\" + CLASS_NAME.split(' ')[0]);\n",
       "\n",
       "    if (output.metadata[EXEC_MIME_TYPE][\"id\"] !== undefined) {\n",
       "      toinsert[toinsert.length - 1].firstChild.textContent = output.data[JS_MIME_TYPE];\n",
       "      // store reference to embed id on output_area\n",
       "      output_area._bokeh_element_id = output.metadata[EXEC_MIME_TYPE][\"id\"];\n",
       "    }\n",
       "    if (output.metadata[EXEC_MIME_TYPE][\"server_id\"] !== undefined) {\n",
       "      var bk_div = document.createElement(\"div\");\n",
       "      bk_div.innerHTML = output.data[HTML_MIME_TYPE];\n",
       "      var script_attrs = bk_div.children[0].attributes;\n",
       "      for (var i = 0; i < script_attrs.length; i++) {\n",
       "        toinsert[toinsert.length - 1].firstChild.setAttribute(script_attrs[i].name, script_attrs[i].value);\n",
       "        toinsert[toinsert.length - 1].firstChild.textContent = bk_div.children[0].textContent\n",
       "      }\n",
       "      // store reference to server id on output_area\n",
       "      output_area._bokeh_server_id = output.metadata[EXEC_MIME_TYPE][\"server_id\"];\n",
       "    }\n",
       "  }\n",
       "\n",
       "  function register_renderer(events, OutputArea) {\n",
       "\n",
       "    function append_mime(data, metadata, element) {\n",
       "      // create a DOM node to render to\n",
       "      var toinsert = this.create_output_subarea(\n",
       "        metadata,\n",
       "        CLASS_NAME,\n",
       "        EXEC_MIME_TYPE\n",
       "      );\n",
       "      this.keyboard_manager.register_events(toinsert);\n",
       "      // Render to node\n",
       "      var props = {data: data, metadata: metadata[EXEC_MIME_TYPE]};\n",
       "      render(props, toinsert[toinsert.length - 1]);\n",
       "      element.append(toinsert);\n",
       "      return toinsert\n",
       "    }\n",
       "\n",
       "    /* Handle when an output is cleared or removed */\n",
       "    events.on('clear_output.CodeCell', handleClearOutput);\n",
       "    events.on('delete.Cell', handleClearOutput);\n",
       "\n",
       "    /* Handle when a new output is added */\n",
       "    events.on('output_added.OutputArea', handleAddOutput);\n",
       "\n",
       "    /**\n",
       "     * Register the mime type and append_mime function with output_area\n",
       "     */\n",
       "    OutputArea.prototype.register_mime_type(EXEC_MIME_TYPE, append_mime, {\n",
       "      /* Is output safe? */\n",
       "      safe: true,\n",
       "      /* Index of renderer in `output_area.display_order` */\n",
       "      index: 0\n",
       "    });\n",
       "  }\n",
       "\n",
       "  // register the mime type if in Jupyter Notebook environment and previously unregistered\n",
       "  if (root.Jupyter !== undefined) {\n",
       "    var events = require('base/js/events');\n",
       "    var OutputArea = require('notebook/js/outputarea').OutputArea;\n",
       "\n",
       "    if (OutputArea.prototype.mime_types().indexOf(EXEC_MIME_TYPE) == -1) {\n",
       "      register_renderer(events, OutputArea);\n",
       "    }\n",
       "  }\n",
       "\n",
       "  \n",
       "  if (typeof (root._bokeh_timeout) === \"undefined\" || force === true) {\n",
       "    root._bokeh_timeout = Date.now() + 5000;\n",
       "    root._bokeh_failed_load = false;\n",
       "  }\n",
       "\n",
       "  var NB_LOAD_WARNING = {'data': {'text/html':\n",
       "     \"<div style='background-color: #fdd'>\\n\"+\n",
       "     \"<p>\\n\"+\n",
       "     \"BokehJS does not appear to have successfully loaded. If loading BokehJS from CDN, this \\n\"+\n",
       "     \"may be due to a slow or bad network connection. Possible fixes:\\n\"+\n",
       "     \"</p>\\n\"+\n",
       "     \"<ul>\\n\"+\n",
       "     \"<li>re-rerun `output_notebook()` to attempt to load from CDN again, or</li>\\n\"+\n",
       "     \"<li>use INLINE resources instead, as so:</li>\\n\"+\n",
       "     \"</ul>\\n\"+\n",
       "     \"<code>\\n\"+\n",
       "     \"from bokeh.resources import INLINE\\n\"+\n",
       "     \"output_notebook(resources=INLINE)\\n\"+\n",
       "     \"</code>\\n\"+\n",
       "     \"</div>\"}};\n",
       "\n",
       "  function display_loaded() {\n",
       "    var el = document.getElementById(\"1002\");\n",
       "    if (el != null) {\n",
       "      el.textContent = \"BokehJS is loading...\";\n",
       "    }\n",
       "    if (root.Bokeh !== undefined) {\n",
       "      if (el != null) {\n",
       "        el.textContent = \"BokehJS \" + root.Bokeh.version + \" successfully loaded.\";\n",
       "      }\n",
       "    } else if (Date.now() < root._bokeh_timeout) {\n",
       "      setTimeout(display_loaded, 100)\n",
       "    }\n",
       "  }\n",
       "\n",
       "\n",
       "  function run_callbacks() {\n",
       "    try {\n",
       "      root._bokeh_onload_callbacks.forEach(function(callback) {\n",
       "        if (callback != null)\n",
       "          callback();\n",
       "      });\n",
       "    } finally {\n",
       "      delete root._bokeh_onload_callbacks\n",
       "    }\n",
       "    console.debug(\"Bokeh: all callbacks have finished\");\n",
       "  }\n",
       "\n",
       "  function load_libs(css_urls, js_urls, callback) {\n",
       "    if (css_urls == null) css_urls = [];\n",
       "    if (js_urls == null) js_urls = [];\n",
       "\n",
       "    root._bokeh_onload_callbacks.push(callback);\n",
       "    if (root._bokeh_is_loading > 0) {\n",
       "      console.debug(\"Bokeh: BokehJS is being loaded, scheduling callback at\", now());\n",
       "      return null;\n",
       "    }\n",
       "    if (js_urls == null || js_urls.length === 0) {\n",
       "      run_callbacks();\n",
       "      return null;\n",
       "    }\n",
       "    console.debug(\"Bokeh: BokehJS not loaded, scheduling load and callback at\", now());\n",
       "    root._bokeh_is_loading = css_urls.length + js_urls.length;\n",
       "\n",
       "    function on_load() {\n",
       "      root._bokeh_is_loading--;\n",
       "      if (root._bokeh_is_loading === 0) {\n",
       "        console.debug(\"Bokeh: all BokehJS libraries/stylesheets loaded\");\n",
       "        run_callbacks()\n",
       "      }\n",
       "    }\n",
       "\n",
       "    function on_error(url) {\n",
       "      console.error(\"failed to load \" + url);\n",
       "    }\n",
       "\n",
       "    for (let i = 0; i < css_urls.length; i++) {\n",
       "      const url = css_urls[i];\n",
       "      const element = document.createElement(\"link\");\n",
       "      element.onload = on_load;\n",
       "      element.onerror = on_error.bind(null, url);\n",
       "      element.rel = \"stylesheet\";\n",
       "      element.type = \"text/css\";\n",
       "      element.href = url;\n",
       "      console.debug(\"Bokeh: injecting link tag for BokehJS stylesheet: \", url);\n",
       "      document.body.appendChild(element);\n",
       "    }\n",
       "\n",
       "    const hashes = {\"https://cdn.bokeh.org/bokeh/release/bokeh-2.3.2.min.js\": \"XypntL49z55iwGVUW4qsEu83zKL3XEcz0MjuGOQ9SlaaQ68X/g+k1FcioZi7oQAc\", \"https://cdn.bokeh.org/bokeh/release/bokeh-tables-2.3.2.min.js\": \"bEsM86IHGDTLCS0Zod8a8WM6Y4+lafAL/eSiyQcuPzinmWNgNO2/olUF0Z2Dkn5i\", \"https://cdn.bokeh.org/bokeh/release/bokeh-widgets-2.3.2.min.js\": \"TX0gSQTdXTTeScqxj6PVQxTiRW8DOoGVwinyi1D3kxv7wuxQ02XkOxv0xwiypcAH\"};\n",
       "\n",
       "    for (let i = 0; i < js_urls.length; i++) {\n",
       "      const url = js_urls[i];\n",
       "      const element = document.createElement('script');\n",
       "      element.onload = on_load;\n",
       "      element.onerror = on_error.bind(null, url);\n",
       "      element.async = false;\n",
       "      element.src = url;\n",
       "      if (url in hashes) {\n",
       "        element.crossOrigin = \"anonymous\";\n",
       "        element.integrity = \"sha384-\" + hashes[url];\n",
       "      }\n",
       "      console.debug(\"Bokeh: injecting script tag for BokehJS library: \", url);\n",
       "      document.head.appendChild(element);\n",
       "    }\n",
       "  };\n",
       "\n",
       "  function inject_raw_css(css) {\n",
       "    const element = document.createElement(\"style\");\n",
       "    element.appendChild(document.createTextNode(css));\n",
       "    document.body.appendChild(element);\n",
       "  }\n",
       "\n",
       "  \n",
       "  var js_urls = [\"https://cdn.bokeh.org/bokeh/release/bokeh-2.3.2.min.js\", \"https://cdn.bokeh.org/bokeh/release/bokeh-widgets-2.3.2.min.js\", \"https://cdn.bokeh.org/bokeh/release/bokeh-tables-2.3.2.min.js\"];\n",
       "  var css_urls = [];\n",
       "  \n",
       "\n",
       "  var inline_js = [\n",
       "    function(Bokeh) {\n",
       "      Bokeh.set_log_level(\"info\");\n",
       "    },\n",
       "    function(Bokeh) {\n",
       "    \n",
       "    \n",
       "    }\n",
       "  ];\n",
       "\n",
       "  function run_inline_js() {\n",
       "    \n",
       "    if (root.Bokeh !== undefined || force === true) {\n",
       "      \n",
       "    for (var i = 0; i < inline_js.length; i++) {\n",
       "      inline_js[i].call(root, root.Bokeh);\n",
       "    }\n",
       "    if (force === true) {\n",
       "        display_loaded();\n",
       "      }} else if (Date.now() < root._bokeh_timeout) {\n",
       "      setTimeout(run_inline_js, 100);\n",
       "    } else if (!root._bokeh_failed_load) {\n",
       "      console.log(\"Bokeh: BokehJS failed to load within specified timeout.\");\n",
       "      root._bokeh_failed_load = true;\n",
       "    } else if (force !== true) {\n",
       "      var cell = $(document.getElementById(\"1002\")).parents('.cell').data().cell;\n",
       "      cell.output_area.append_execute_result(NB_LOAD_WARNING)\n",
       "    }\n",
       "\n",
       "  }\n",
       "\n",
       "  if (root._bokeh_is_loading === 0) {\n",
       "    console.debug(\"Bokeh: BokehJS loaded, going straight to plotting\");\n",
       "    run_inline_js();\n",
       "  } else {\n",
       "    load_libs(css_urls, js_urls, function() {\n",
       "      console.debug(\"Bokeh: BokehJS plotting callback run at\", now());\n",
       "      run_inline_js();\n",
       "    });\n",
       "  }\n",
       "}(window));"
      ],
      "application/vnd.bokehjs_load.v0+json": "\n(function(root) {\n  function now() {\n    return new Date();\n  }\n\n  var force = true;\n\n  if (typeof root._bokeh_onload_callbacks === \"undefined\" || force === true) {\n    root._bokeh_onload_callbacks = [];\n    root._bokeh_is_loading = undefined;\n  }\n\n  \n\n  \n  if (typeof (root._bokeh_timeout) === \"undefined\" || force === true) {\n    root._bokeh_timeout = Date.now() + 5000;\n    root._bokeh_failed_load = false;\n  }\n\n  var NB_LOAD_WARNING = {'data': {'text/html':\n     \"<div style='background-color: #fdd'>\\n\"+\n     \"<p>\\n\"+\n     \"BokehJS does not appear to have successfully loaded. If loading BokehJS from CDN, this \\n\"+\n     \"may be due to a slow or bad network connection. Possible fixes:\\n\"+\n     \"</p>\\n\"+\n     \"<ul>\\n\"+\n     \"<li>re-rerun `output_notebook()` to attempt to load from CDN again, or</li>\\n\"+\n     \"<li>use INLINE resources instead, as so:</li>\\n\"+\n     \"</ul>\\n\"+\n     \"<code>\\n\"+\n     \"from bokeh.resources import INLINE\\n\"+\n     \"output_notebook(resources=INLINE)\\n\"+\n     \"</code>\\n\"+\n     \"</div>\"}};\n\n  function display_loaded() {\n    var el = document.getElementById(\"1002\");\n    if (el != null) {\n      el.textContent = \"BokehJS is loading...\";\n    }\n    if (root.Bokeh !== undefined) {\n      if (el != null) {\n        el.textContent = \"BokehJS \" + root.Bokeh.version + \" successfully loaded.\";\n      }\n    } else if (Date.now() < root._bokeh_timeout) {\n      setTimeout(display_loaded, 100)\n    }\n  }\n\n\n  function run_callbacks() {\n    try {\n      root._bokeh_onload_callbacks.forEach(function(callback) {\n        if (callback != null)\n          callback();\n      });\n    } finally {\n      delete root._bokeh_onload_callbacks\n    }\n    console.debug(\"Bokeh: all callbacks have finished\");\n  }\n\n  function load_libs(css_urls, js_urls, callback) {\n    if (css_urls == null) css_urls = [];\n    if (js_urls == null) js_urls = [];\n\n    root._bokeh_onload_callbacks.push(callback);\n    if (root._bokeh_is_loading > 0) {\n      console.debug(\"Bokeh: BokehJS is being loaded, scheduling callback at\", now());\n      return null;\n    }\n    if (js_urls == null || js_urls.length === 0) {\n      run_callbacks();\n      return null;\n    }\n    console.debug(\"Bokeh: BokehJS not loaded, scheduling load and callback at\", now());\n    root._bokeh_is_loading = css_urls.length + js_urls.length;\n\n    function on_load() {\n      root._bokeh_is_loading--;\n      if (root._bokeh_is_loading === 0) {\n        console.debug(\"Bokeh: all BokehJS libraries/stylesheets loaded\");\n        run_callbacks()\n      }\n    }\n\n    function on_error(url) {\n      console.error(\"failed to load \" + url);\n    }\n\n    for (let i = 0; i < css_urls.length; i++) {\n      const url = css_urls[i];\n      const element = document.createElement(\"link\");\n      element.onload = on_load;\n      element.onerror = on_error.bind(null, url);\n      element.rel = \"stylesheet\";\n      element.type = \"text/css\";\n      element.href = url;\n      console.debug(\"Bokeh: injecting link tag for BokehJS stylesheet: \", url);\n      document.body.appendChild(element);\n    }\n\n    const hashes = {\"https://cdn.bokeh.org/bokeh/release/bokeh-2.3.2.min.js\": \"XypntL49z55iwGVUW4qsEu83zKL3XEcz0MjuGOQ9SlaaQ68X/g+k1FcioZi7oQAc\", \"https://cdn.bokeh.org/bokeh/release/bokeh-tables-2.3.2.min.js\": \"bEsM86IHGDTLCS0Zod8a8WM6Y4+lafAL/eSiyQcuPzinmWNgNO2/olUF0Z2Dkn5i\", \"https://cdn.bokeh.org/bokeh/release/bokeh-widgets-2.3.2.min.js\": \"TX0gSQTdXTTeScqxj6PVQxTiRW8DOoGVwinyi1D3kxv7wuxQ02XkOxv0xwiypcAH\"};\n\n    for (let i = 0; i < js_urls.length; i++) {\n      const url = js_urls[i];\n      const element = document.createElement('script');\n      element.onload = on_load;\n      element.onerror = on_error.bind(null, url);\n      element.async = false;\n      element.src = url;\n      if (url in hashes) {\n        element.crossOrigin = \"anonymous\";\n        element.integrity = \"sha384-\" + hashes[url];\n      }\n      console.debug(\"Bokeh: injecting script tag for BokehJS library: \", url);\n      document.head.appendChild(element);\n    }\n  };\n\n  function inject_raw_css(css) {\n    const element = document.createElement(\"style\");\n    element.appendChild(document.createTextNode(css));\n    document.body.appendChild(element);\n  }\n\n  \n  var js_urls = [\"https://cdn.bokeh.org/bokeh/release/bokeh-2.3.2.min.js\", \"https://cdn.bokeh.org/bokeh/release/bokeh-widgets-2.3.2.min.js\", \"https://cdn.bokeh.org/bokeh/release/bokeh-tables-2.3.2.min.js\"];\n  var css_urls = [];\n  \n\n  var inline_js = [\n    function(Bokeh) {\n      Bokeh.set_log_level(\"info\");\n    },\n    function(Bokeh) {\n    \n    \n    }\n  ];\n\n  function run_inline_js() {\n    \n    if (root.Bokeh !== undefined || force === true) {\n      \n    for (var i = 0; i < inline_js.length; i++) {\n      inline_js[i].call(root, root.Bokeh);\n    }\n    if (force === true) {\n        display_loaded();\n      }} else if (Date.now() < root._bokeh_timeout) {\n      setTimeout(run_inline_js, 100);\n    } else if (!root._bokeh_failed_load) {\n      console.log(\"Bokeh: BokehJS failed to load within specified timeout.\");\n      root._bokeh_failed_load = true;\n    } else if (force !== true) {\n      var cell = $(document.getElementById(\"1002\")).parents('.cell').data().cell;\n      cell.output_area.append_execute_result(NB_LOAD_WARNING)\n    }\n\n  }\n\n  if (root._bokeh_is_loading === 0) {\n    console.debug(\"Bokeh: BokehJS loaded, going straight to plotting\");\n    run_inline_js();\n  } else {\n    load_libs(css_urls, js_urls, function() {\n      console.debug(\"Bokeh: BokehJS plotting callback run at\", now());\n      run_inline_js();\n    });\n  }\n}(window));"
     },
     "metadata": {},
     "output_type": "display_data"
    }
   ],
   "source": [
    "from bokeh.io import output_notebook\n",
    "output_notebook()"
   ]
  },
  {
   "cell_type": "code",
   "execution_count": 3,
   "id": "525b02af",
   "metadata": {},
   "outputs": [],
   "source": [
    "dataset = pd.read_csv('./data/world_population.csv',index_col=0)"
   ]
  },
  {
   "cell_type": "code",
   "execution_count": 4,
   "id": "7383cc84",
   "metadata": {},
   "outputs": [
    {
     "data": {
      "text/html": [
       "<div>\n",
       "<style scoped>\n",
       "    .dataframe tbody tr th:only-of-type {\n",
       "        vertical-align: middle;\n",
       "    }\n",
       "\n",
       "    .dataframe tbody tr th {\n",
       "        vertical-align: top;\n",
       "    }\n",
       "\n",
       "    .dataframe thead th {\n",
       "        text-align: right;\n",
       "    }\n",
       "</style>\n",
       "<table border=\"1\" class=\"dataframe\">\n",
       "  <thead>\n",
       "    <tr style=\"text-align: right;\">\n",
       "      <th></th>\n",
       "      <th>Country Code</th>\n",
       "      <th>Indicator Name</th>\n",
       "      <th>Indicator Code</th>\n",
       "      <th>1960</th>\n",
       "      <th>1961</th>\n",
       "      <th>1962</th>\n",
       "      <th>1963</th>\n",
       "      <th>1964</th>\n",
       "      <th>1965</th>\n",
       "      <th>1966</th>\n",
       "      <th>...</th>\n",
       "      <th>2007</th>\n",
       "      <th>2008</th>\n",
       "      <th>2009</th>\n",
       "      <th>2010</th>\n",
       "      <th>2011</th>\n",
       "      <th>2012</th>\n",
       "      <th>2013</th>\n",
       "      <th>2014</th>\n",
       "      <th>2015</th>\n",
       "      <th>2016</th>\n",
       "    </tr>\n",
       "    <tr>\n",
       "      <th>Country Name</th>\n",
       "      <th></th>\n",
       "      <th></th>\n",
       "      <th></th>\n",
       "      <th></th>\n",
       "      <th></th>\n",
       "      <th></th>\n",
       "      <th></th>\n",
       "      <th></th>\n",
       "      <th></th>\n",
       "      <th></th>\n",
       "      <th></th>\n",
       "      <th></th>\n",
       "      <th></th>\n",
       "      <th></th>\n",
       "      <th></th>\n",
       "      <th></th>\n",
       "      <th></th>\n",
       "      <th></th>\n",
       "      <th></th>\n",
       "      <th></th>\n",
       "      <th></th>\n",
       "    </tr>\n",
       "  </thead>\n",
       "  <tbody>\n",
       "    <tr>\n",
       "      <th>Aruba</th>\n",
       "      <td>ABW</td>\n",
       "      <td>Population density (people per sq. km of land ...</td>\n",
       "      <td>EN.POP.DNST</td>\n",
       "      <td>NaN</td>\n",
       "      <td>307.972222</td>\n",
       "      <td>312.366667</td>\n",
       "      <td>314.983333</td>\n",
       "      <td>316.827778</td>\n",
       "      <td>318.666667</td>\n",
       "      <td>320.622222</td>\n",
       "      <td>...</td>\n",
       "      <td>562.322222</td>\n",
       "      <td>563.011111</td>\n",
       "      <td>563.422222</td>\n",
       "      <td>564.427778</td>\n",
       "      <td>566.311111</td>\n",
       "      <td>568.850000</td>\n",
       "      <td>571.783333</td>\n",
       "      <td>574.672222</td>\n",
       "      <td>577.161111</td>\n",
       "      <td>NaN</td>\n",
       "    </tr>\n",
       "    <tr>\n",
       "      <th>Andorra</th>\n",
       "      <td>AND</td>\n",
       "      <td>Population density (people per sq. km of land ...</td>\n",
       "      <td>EN.POP.DNST</td>\n",
       "      <td>NaN</td>\n",
       "      <td>30.587234</td>\n",
       "      <td>32.714894</td>\n",
       "      <td>34.914894</td>\n",
       "      <td>37.170213</td>\n",
       "      <td>39.470213</td>\n",
       "      <td>41.800000</td>\n",
       "      <td>...</td>\n",
       "      <td>180.591489</td>\n",
       "      <td>182.161702</td>\n",
       "      <td>181.859574</td>\n",
       "      <td>179.614894</td>\n",
       "      <td>175.161702</td>\n",
       "      <td>168.757447</td>\n",
       "      <td>161.493617</td>\n",
       "      <td>154.863830</td>\n",
       "      <td>149.942553</td>\n",
       "      <td>NaN</td>\n",
       "    </tr>\n",
       "  </tbody>\n",
       "</table>\n",
       "<p>2 rows × 60 columns</p>\n",
       "</div>"
      ],
      "text/plain": [
       "             Country Code                                     Indicator Name  \\\n",
       "Country Name                                                                   \n",
       "Aruba                 ABW  Population density (people per sq. km of land ...   \n",
       "Andorra               AND  Population density (people per sq. km of land ...   \n",
       "\n",
       "             Indicator Code  1960        1961        1962        1963  \\\n",
       "Country Name                                                            \n",
       "Aruba           EN.POP.DNST   NaN  307.972222  312.366667  314.983333   \n",
       "Andorra         EN.POP.DNST   NaN   30.587234   32.714894   34.914894   \n",
       "\n",
       "                    1964        1965        1966  ...        2007        2008  \\\n",
       "Country Name                                      ...                           \n",
       "Aruba         316.827778  318.666667  320.622222  ...  562.322222  563.011111   \n",
       "Andorra        37.170213   39.470213   41.800000  ...  180.591489  182.161702   \n",
       "\n",
       "                    2009        2010        2011        2012        2013  \\\n",
       "Country Name                                                               \n",
       "Aruba         563.422222  564.427778  566.311111  568.850000  571.783333   \n",
       "Andorra       181.859574  179.614894  175.161702  168.757447  161.493617   \n",
       "\n",
       "                    2014        2015  2016  \n",
       "Country Name                                \n",
       "Aruba         574.672222  577.161111   NaN  \n",
       "Andorra       154.863830  149.942553   NaN  \n",
       "\n",
       "[2 rows x 60 columns]"
      ]
     },
     "execution_count": 4,
     "metadata": {},
     "output_type": "execute_result"
    }
   ],
   "source": [
    "dataset.head(2)"
   ]
  },
  {
   "cell_type": "code",
   "execution_count": 5,
   "id": "78c9a43c",
   "metadata": {},
   "outputs": [],
   "source": [
    "years = [year for year in dataset.columns if not year[0].isalpha()]\n",
    "de_vals  =[dataset.loc[['Germany']][year] for year in years]"
   ]
  },
  {
   "cell_type": "code",
   "execution_count": 6,
   "id": "4cfb0dbb",
   "metadata": {},
   "outputs": [
    {
     "name": "stderr",
     "output_type": "stream",
     "text": [
      "BokehDeprecationWarning: 'legend' keyword is deprecated, use explicit 'legend_label', 'legend_field', or 'legend_group' keywords instead\n"
     ]
    },
    {
     "data": {
      "text/html": [
       "\n",
       "\n",
       "\n",
       "\n",
       "\n",
       "\n",
       "  <div class=\"bk-root\" id=\"765eda05-6c32-4db4-9cb7-adc2c7af020d\" data-root-id=\"1003\"></div>\n"
      ]
     },
     "metadata": {},
     "output_type": "display_data"
    },
    {
     "data": {
      "application/javascript": [
       "(function(root) {\n",
       "  function embed_document(root) {\n",
       "    \n",
       "  var docs_json = {\"7bdeab6d-5591-40d0-9721-2380233b5a8c\":{\"defs\":[],\"roots\":{\"references\":[{\"attributes\":{\"below\":[{\"id\":\"1014\"}],\"center\":[{\"id\":\"1017\"},{\"id\":\"1021\"},{\"id\":\"1051\"}],\"left\":[{\"id\":\"1018\"}],\"renderers\":[{\"id\":\"1039\"}],\"title\":{\"id\":\"1004\"},\"toolbar\":{\"id\":\"1029\"},\"x_range\":{\"id\":\"1006\"},\"x_scale\":{\"id\":\"1010\"},\"y_range\":{\"id\":\"1008\"},\"y_scale\":{\"id\":\"1012\"}},\"id\":\"1003\",\"subtype\":\"Figure\",\"type\":\"Plot\"},{\"attributes\":{\"label\":{\"value\":\"Germany\"},\"renderers\":[{\"id\":\"1039\"}]},\"id\":\"1052\",\"type\":\"LegendItem\"},{\"attributes\":{},\"id\":\"1012\",\"type\":\"LinearScale\"},{\"attributes\":{\"bottom_units\":\"screen\",\"fill_alpha\":0.5,\"fill_color\":\"lightgrey\",\"left_units\":\"screen\",\"level\":\"overlay\",\"line_alpha\":1.0,\"line_color\":\"black\",\"line_dash\":[4,4],\"line_width\":2,\"right_units\":\"screen\",\"syncable\":false,\"top_units\":\"screen\"},\"id\":\"1028\",\"type\":\"BoxAnnotation\"},{\"attributes\":{\"data\":{\"x\":[\"1960\",\"1961\",\"1962\",\"1963\",\"1964\",\"1965\",\"1966\",\"1967\",\"1968\",\"1969\",\"1970\",\"1971\",\"1972\",\"1973\",\"1974\",\"1975\",\"1976\",\"1977\",\"1978\",\"1979\",\"1980\",\"1981\",\"1982\",\"1983\",\"1984\",\"1985\",\"1986\",\"1987\",\"1988\",\"1989\",\"1990\",\"1991\",\"1992\",\"1993\",\"1994\",\"1995\",\"1996\",\"1997\",\"1998\",\"1999\",\"2000\",\"2001\",\"2002\",\"2003\",\"2004\",\"2005\",\"2006\",\"2007\",\"2008\",\"2009\",\"2010\",\"2011\",\"2012\",\"2013\",\"2014\",\"2015\",\"2016\"],\"y\":[[\"NaN\"],[210.172806690917],[212.029284220777],[214.001526651963],[215.731495431501],[217.579970211669],[219.403405608226],[220.408833385845],[221.391212442357],[223.153787987283],[223.897370606937],[224.308544095323],[225.384389768854],[226.095339844757],[226.183464612036],[225.341717984705],[224.377595737977],[223.870231718844],[223.675479047919],[223.774382035345],[224.239039899178],[224.580835218973],[224.367330220835],[223.77991579068],[223.007719187695],[222.50987597743],[222.611737748117],[222.953971300089],[223.826709248704],[225.564354251998],[227.517053819494],[229.18080944061],[230.930020336264],[232.459793194317],[233.274177193435],[233.967490690347],[234.652470709559],[235.022979515829],[235.078777720474],[235.257731102069],[235.596813297034],[236.027300085985],[236.451570830706],[236.616427281328],[236.592195429653],[236.464680582636],[236.225197866483],[235.943361918146],[235.522178240542],[234.939637417171],[234.606908225034],[234.673149529493],[230.750625466231],[235.647997360418],[232.347793653526],[233.583362024445],[\"NaN\"]]},\"selected\":{\"id\":\"1048\"},\"selection_policy\":{\"id\":\"1049\"}},\"id\":\"1036\",\"type\":\"ColumnDataSource\"},{\"attributes\":{},\"id\":\"1008\",\"type\":\"DataRange1d\"},{\"attributes\":{},\"id\":\"1048\",\"type\":\"Selection\"},{\"attributes\":{\"data_source\":{\"id\":\"1036\"},\"glyph\":{\"id\":\"1037\"},\"hover_glyph\":null,\"muted_glyph\":null,\"nonselection_glyph\":{\"id\":\"1038\"},\"view\":{\"id\":\"1040\"}},\"id\":\"1039\",\"type\":\"GlyphRenderer\"},{\"attributes\":{\"text\":\"Population Density of Germany\"},\"id\":\"1004\",\"type\":\"Title\"},{\"attributes\":{},\"id\":\"1049\",\"type\":\"UnionRenderers\"},{\"attributes\":{},\"id\":\"1006\",\"type\":\"DataRange1d\"},{\"attributes\":{\"active_multi\":null,\"tools\":[{\"id\":\"1022\"},{\"id\":\"1023\"},{\"id\":\"1024\"},{\"id\":\"1025\"},{\"id\":\"1026\"},{\"id\":\"1027\"}]},\"id\":\"1029\",\"type\":\"Toolbar\"},{\"attributes\":{\"axis_label\":\"Year\",\"formatter\":{\"id\":\"1047\"},\"major_label_policy\":{\"id\":\"1045\"},\"ticker\":{\"id\":\"1015\"}},\"id\":\"1014\",\"type\":\"LinearAxis\"},{\"attributes\":{},\"id\":\"1010\",\"type\":\"LinearScale\"},{\"attributes\":{},\"id\":\"1015\",\"type\":\"BasicTicker\"},{\"attributes\":{\"axis\":{\"id\":\"1014\"},\"ticker\":null},\"id\":\"1017\",\"type\":\"Grid\"},{\"attributes\":{},\"id\":\"1023\",\"type\":\"WheelZoomTool\"},{\"attributes\":{},\"id\":\"1042\",\"type\":\"AllLabels\"},{\"attributes\":{\"axis_label\":\"Population Density\",\"formatter\":{\"id\":\"1044\"},\"major_label_policy\":{\"id\":\"1042\"},\"ticker\":{\"id\":\"1019\"}},\"id\":\"1018\",\"type\":\"LinearAxis\"},{\"attributes\":{},\"id\":\"1044\",\"type\":\"BasicTickFormatter\"},{\"attributes\":{\"axis\":{\"id\":\"1018\"},\"dimension\":1,\"ticker\":null},\"id\":\"1021\",\"type\":\"Grid\"},{\"attributes\":{},\"id\":\"1019\",\"type\":\"BasicTicker\"},{\"attributes\":{\"line_alpha\":0.1,\"line_color\":\"#1f77b4\",\"line_width\":2,\"x\":{\"field\":\"x\"},\"y\":{\"field\":\"y\"}},\"id\":\"1038\",\"type\":\"Line\"},{\"attributes\":{},\"id\":\"1045\",\"type\":\"AllLabels\"},{\"attributes\":{},\"id\":\"1022\",\"type\":\"PanTool\"},{\"attributes\":{\"overlay\":{\"id\":\"1028\"}},\"id\":\"1024\",\"type\":\"BoxZoomTool\"},{\"attributes\":{},\"id\":\"1047\",\"type\":\"BasicTickFormatter\"},{\"attributes\":{\"items\":[{\"id\":\"1052\"}]},\"id\":\"1051\",\"type\":\"Legend\"},{\"attributes\":{},\"id\":\"1025\",\"type\":\"SaveTool\"},{\"attributes\":{},\"id\":\"1027\",\"type\":\"HelpTool\"},{\"attributes\":{\"line_color\":\"#1f77b4\",\"line_width\":2,\"x\":{\"field\":\"x\"},\"y\":{\"field\":\"y\"}},\"id\":\"1037\",\"type\":\"Line\"},{\"attributes\":{},\"id\":\"1026\",\"type\":\"ResetTool\"},{\"attributes\":{\"source\":{\"id\":\"1036\"}},\"id\":\"1040\",\"type\":\"CDSView\"}],\"root_ids\":[\"1003\"]},\"title\":\"Bokeh Application\",\"version\":\"2.3.2\"}};\n",
       "  var render_items = [{\"docid\":\"7bdeab6d-5591-40d0-9721-2380233b5a8c\",\"root_ids\":[\"1003\"],\"roots\":{\"1003\":\"765eda05-6c32-4db4-9cb7-adc2c7af020d\"}}];\n",
       "  root.Bokeh.embed.embed_items_notebook(docs_json, render_items);\n",
       "\n",
       "  }\n",
       "  if (root.Bokeh !== undefined) {\n",
       "    embed_document(root);\n",
       "  } else {\n",
       "    var attempts = 0;\n",
       "    var timer = setInterval(function(root) {\n",
       "      if (root.Bokeh !== undefined) {\n",
       "        clearInterval(timer);\n",
       "        embed_document(root);\n",
       "      } else {\n",
       "        attempts++;\n",
       "        if (attempts > 100) {\n",
       "          clearInterval(timer);\n",
       "          console.log(\"Bokeh: ERROR: Unable to run BokehJS code because BokehJS library is missing\");\n",
       "        }\n",
       "      }\n",
       "    }, 10, root)\n",
       "  }\n",
       "})(window);"
      ],
      "application/vnd.bokehjs_exec.v0+json": ""
     },
     "metadata": {
      "application/vnd.bokehjs_exec.v0+json": {
       "id": "1003"
      }
     },
     "output_type": "display_data"
    }
   ],
   "source": [
    "# plotting the population density change in Germany in the given years\n",
    "plot = figure(title='Population Density of Germany', x_axis_label='Year',\n",
    "y_axis_label='Population Density')\n",
    "plot.line(years, de_vals, line_width=2, legend='Germany')\n",
    "show(plot)"
   ]
  },
  {
   "cell_type": "code",
   "execution_count": 7,
   "id": "a94291e2",
   "metadata": {},
   "outputs": [],
   "source": [
    "ch_vals = [dataset.loc[['Switzerland']][year] for year in years]"
   ]
  },
  {
   "cell_type": "code",
   "execution_count": 8,
   "id": "91faf763",
   "metadata": {},
   "outputs": [
    {
     "data": {
      "text/html": [
       "\n",
       "\n",
       "\n",
       "\n",
       "\n",
       "\n",
       "  <div class=\"bk-root\" id=\"bd9f952f-8286-4f7a-9a8d-136f54382fbf\" data-root-id=\"1113\"></div>\n"
      ]
     },
     "metadata": {},
     "output_type": "display_data"
    },
    {
     "data": {
      "application/javascript": [
       "(function(root) {\n",
       "  function embed_document(root) {\n",
       "    \n",
       "  var docs_json = {\"4be8964a-68e2-4e68-8c33-b9396dcb5f65\":{\"defs\":[],\"roots\":{\"references\":[{\"attributes\":{\"below\":[{\"id\":\"1124\"}],\"center\":[{\"id\":\"1127\"},{\"id\":\"1131\"},{\"id\":\"1161\"}],\"left\":[{\"id\":\"1128\"}],\"renderers\":[{\"id\":\"1149\"},{\"id\":\"1166\"},{\"id\":\"1184\"}],\"title\":{\"id\":\"1114\"},\"toolbar\":{\"id\":\"1139\"},\"x_range\":{\"id\":\"1116\"},\"x_scale\":{\"id\":\"1120\"},\"y_range\":{\"id\":\"1118\"},\"y_scale\":{\"id\":\"1122\"}},\"id\":\"1113\",\"subtype\":\"Figure\",\"type\":\"Plot\"},{\"attributes\":{\"axis_label\":\"Year\",\"formatter\":{\"id\":\"1157\"},\"major_label_policy\":{\"id\":\"1155\"},\"ticker\":{\"id\":\"1125\"}},\"id\":\"1124\",\"type\":\"LinearAxis\"},{\"attributes\":{},\"id\":\"1122\",\"type\":\"LinearScale\"},{\"attributes\":{\"data\":{\"x\":[\"1960\",\"1961\",\"1962\",\"1963\",\"1964\",\"1965\",\"1966\",\"1967\",\"1968\",\"1969\",\"1970\",\"1971\",\"1972\",\"1973\",\"1974\",\"1975\",\"1976\",\"1977\",\"1978\",\"1979\",\"1980\",\"1981\",\"1982\",\"1983\",\"1984\",\"1985\",\"1986\",\"1987\",\"1988\",\"1989\",\"1990\",\"1991\",\"1992\",\"1993\",\"1994\",\"1995\",\"1996\",\"1997\",\"1998\",\"1999\",\"2000\",\"2001\",\"2002\",\"2003\",\"2004\",\"2005\",\"2006\",\"2007\",\"2008\",\"2009\",\"2010\",\"2011\",\"2012\",\"2013\",\"2014\",\"2015\",\"2016\"],\"y\":[[\"NaN\"],[210.172806690917],[212.029284220777],[214.001526651963],[215.731495431501],[217.579970211669],[219.403405608226],[220.408833385845],[221.391212442357],[223.153787987283],[223.897370606937],[224.308544095323],[225.384389768854],[226.095339844757],[226.183464612036],[225.341717984705],[224.377595737977],[223.870231718844],[223.675479047919],[223.774382035345],[224.239039899178],[224.580835218973],[224.367330220835],[223.77991579068],[223.007719187695],[222.50987597743],[222.611737748117],[222.953971300089],[223.826709248704],[225.564354251998],[227.517053819494],[229.18080944061],[230.930020336264],[232.459793194317],[233.274177193435],[233.967490690347],[234.652470709559],[235.022979515829],[235.078777720474],[235.257731102069],[235.596813297034],[236.027300085985],[236.451570830706],[236.616427281328],[236.592195429653],[236.464680582636],[236.225197866483],[235.943361918146],[235.522178240542],[234.939637417171],[234.606908225034],[234.673149529493],[230.750625466231],[235.647997360418],[232.347793653526],[233.583362024445],[\"NaN\"]]},\"selected\":{\"id\":\"1158\"},\"selection_policy\":{\"id\":\"1159\"}},\"id\":\"1146\",\"type\":\"ColumnDataSource\"},{\"attributes\":{},\"id\":\"1125\",\"type\":\"BasicTicker\"},{\"attributes\":{\"axis\":{\"id\":\"1124\"},\"ticker\":null},\"id\":\"1127\",\"type\":\"Grid\"},{\"attributes\":{},\"id\":\"1152\",\"type\":\"AllLabels\"},{\"attributes\":{},\"id\":\"1133\",\"type\":\"WheelZoomTool\"},{\"attributes\":{},\"id\":\"1154\",\"type\":\"BasicTickFormatter\"},{\"attributes\":{\"axis_label\":\"Population Density\",\"formatter\":{\"id\":\"1154\"},\"major_label_policy\":{\"id\":\"1152\"},\"ticker\":{\"id\":\"1129\"}},\"id\":\"1128\",\"type\":\"LinearAxis\"},{\"attributes\":{\"axis\":{\"id\":\"1128\"},\"dimension\":1,\"ticker\":null},\"id\":\"1131\",\"type\":\"Grid\"},{\"attributes\":{\"source\":{\"id\":\"1181\"}},\"id\":\"1185\",\"type\":\"CDSView\"},{\"attributes\":{},\"id\":\"1129\",\"type\":\"BasicTicker\"},{\"attributes\":{\"data\":{\"x\":[\"1960\",\"1961\",\"1962\",\"1963\",\"1964\",\"1965\",\"1966\",\"1967\",\"1968\",\"1969\",\"1970\",\"1971\",\"1972\",\"1973\",\"1974\",\"1975\",\"1976\",\"1977\",\"1978\",\"1979\",\"1980\",\"1981\",\"1982\",\"1983\",\"1984\",\"1985\",\"1986\",\"1987\",\"1988\",\"1989\",\"1990\",\"1991\",\"1992\",\"1993\",\"1994\",\"1995\",\"1996\",\"1997\",\"1998\",\"1999\",\"2000\",\"2001\",\"2002\",\"2003\",\"2004\",\"2005\",\"2006\",\"2007\",\"2008\",\"2009\",\"2010\",\"2011\",\"2012\",\"2013\",\"2014\",\"2015\",\"2016\"],\"y\":[[\"NaN\"],[137.479609390812],[141.009284557782],[144.056036227484],[146.458915199352],[148.160089050799],[149.716707144303],[151.583308034811],[153.504199554746],[155.24152499494],[156.367056263914],[157.189814814815],[158.392936652499],[159.566560412872],[160.428177494434],[160.358024691358],[159.444039668083],[158.904422181745],[158.918690548472],[159.238134992916],[159.871685893544],[160.748684476827],[161.690674964582],[162.385473588342],[162.965544283943],[163.686533937109],[164.540565154697],[165.577322978067],[166.798704748413],[168.152799210706],[169.888411039996],[172.025044903742],[173.932151078955],[175.523413190316],[176.928204609274],[178.114472918617],[178.907356810362],[179.343385533939],[179.881622223347],[180.746135357369],[181.769304726242],[182.9277635807],[184.321466524973],[185.698767743731],[186.984438259109],[188.195632370059],[189.385176000202],[191.090115396295],[193.533631946553],[195.966975402369],[198.018751897965],[200.23276647434],[202.370204474137],[204.710648851098],[207.223630934305],[209.711914161352],[\"NaN\"]]},\"selected\":{\"id\":\"1197\"},\"selection_policy\":{\"id\":\"1198\"}},\"id\":\"1181\",\"type\":\"ColumnDataSource\"},{\"attributes\":{},\"id\":\"1155\",\"type\":\"AllLabels\"},{\"attributes\":{\"data_source\":{\"id\":\"1181\"},\"glyph\":{\"id\":\"1182\"},\"hover_glyph\":null,\"muted_glyph\":null,\"nonselection_glyph\":{\"id\":\"1183\"},\"view\":{\"id\":\"1185\"}},\"id\":\"1184\",\"type\":\"GlyphRenderer\"},{\"attributes\":{\"active_multi\":null,\"tools\":[{\"id\":\"1132\"},{\"id\":\"1133\"},{\"id\":\"1134\"},{\"id\":\"1135\"},{\"id\":\"1136\"},{\"id\":\"1137\"}]},\"id\":\"1139\",\"type\":\"Toolbar\"},{\"attributes\":{},\"id\":\"1137\",\"type\":\"HelpTool\"},{\"attributes\":{},\"id\":\"1132\",\"type\":\"PanTool\"},{\"attributes\":{\"text\":\"Population Density of Germany and Switzerland\"},\"id\":\"1114\",\"type\":\"Title\"},{\"attributes\":{},\"id\":\"1157\",\"type\":\"BasicTickFormatter\"},{\"attributes\":{\"overlay\":{\"id\":\"1138\"}},\"id\":\"1134\",\"type\":\"BoxZoomTool\"},{\"attributes\":{\"source\":{\"id\":\"1163\"}},\"id\":\"1167\",\"type\":\"CDSView\"},{\"attributes\":{\"fill_alpha\":{\"value\":0.1},\"fill_color\":{\"value\":\"white\"},\"line_alpha\":{\"value\":0.1},\"line_color\":{\"value\":\"orange\"},\"x\":{\"field\":\"x\"},\"y\":{\"field\":\"y\"}},\"id\":\"1183\",\"type\":\"Circle\"},{\"attributes\":{},\"id\":\"1135\",\"type\":\"SaveTool\"},{\"attributes\":{},\"id\":\"1120\",\"type\":\"LinearScale\"},{\"attributes\":{\"data\":{\"x\":[\"1960\",\"1961\",\"1962\",\"1963\",\"1964\",\"1965\",\"1966\",\"1967\",\"1968\",\"1969\",\"1970\",\"1971\",\"1972\",\"1973\",\"1974\",\"1975\",\"1976\",\"1977\",\"1978\",\"1979\",\"1980\",\"1981\",\"1982\",\"1983\",\"1984\",\"1985\",\"1986\",\"1987\",\"1988\",\"1989\",\"1990\",\"1991\",\"1992\",\"1993\",\"1994\",\"1995\",\"1996\",\"1997\",\"1998\",\"1999\",\"2000\",\"2001\",\"2002\",\"2003\",\"2004\",\"2005\",\"2006\",\"2007\",\"2008\",\"2009\",\"2010\",\"2011\",\"2012\",\"2013\",\"2014\",\"2015\",\"2016\"],\"y\":[[\"NaN\"],[137.479609390812],[141.009284557782],[144.056036227484],[146.458915199352],[148.160089050799],[149.716707144303],[151.583308034811],[153.504199554746],[155.24152499494],[156.367056263914],[157.189814814815],[158.392936652499],[159.566560412872],[160.428177494434],[160.358024691358],[159.444039668083],[158.904422181745],[158.918690548472],[159.238134992916],[159.871685893544],[160.748684476827],[161.690674964582],[162.385473588342],[162.965544283943],[163.686533937109],[164.540565154697],[165.577322978067],[166.798704748413],[168.152799210706],[169.888411039996],[172.025044903742],[173.932151078955],[175.523413190316],[176.928204609274],[178.114472918617],[178.907356810362],[179.343385533939],[179.881622223347],[180.746135357369],[181.769304726242],[182.9277635807],[184.321466524973],[185.698767743731],[186.984438259109],[188.195632370059],[189.385176000202],[191.090115396295],[193.533631946553],[195.966975402369],[198.018751897965],[200.23276647434],[202.370204474137],[204.710648851098],[207.223630934305],[209.711914161352],[\"NaN\"]]},\"selected\":{\"id\":\"1177\"},\"selection_policy\":{\"id\":\"1178\"}},\"id\":\"1163\",\"type\":\"ColumnDataSource\"},{\"attributes\":{},\"id\":\"1136\",\"type\":\"ResetTool\"},{\"attributes\":{\"label\":{\"value\":\"Germany\"},\"renderers\":[{\"id\":\"1149\"}]},\"id\":\"1162\",\"type\":\"LegendItem\"},{\"attributes\":{\"label\":{\"value\":\"Switzerland\"},\"renderers\":[{\"id\":\"1166\"},{\"id\":\"1184\"}]},\"id\":\"1180\",\"type\":\"LegendItem\"},{\"attributes\":{},\"id\":\"1116\",\"type\":\"DataRange1d\"},{\"attributes\":{\"line_color\":\"#1f77b4\",\"line_width\":2,\"x\":{\"field\":\"x\"},\"y\":{\"field\":\"y\"}},\"id\":\"1147\",\"type\":\"Line\"},{\"attributes\":{\"line_color\":\"orange\",\"line_width\":2,\"x\":{\"field\":\"x\"},\"y\":{\"field\":\"y\"}},\"id\":\"1164\",\"type\":\"Line\"},{\"attributes\":{\"data_source\":{\"id\":\"1163\"},\"glyph\":{\"id\":\"1164\"},\"hover_glyph\":null,\"muted_glyph\":null,\"nonselection_glyph\":{\"id\":\"1165\"},\"view\":{\"id\":\"1167\"}},\"id\":\"1166\",\"type\":\"GlyphRenderer\"},{\"attributes\":{\"source\":{\"id\":\"1146\"}},\"id\":\"1150\",\"type\":\"CDSView\"},{\"attributes\":{\"line_alpha\":0.1,\"line_color\":\"orange\",\"line_width\":2,\"x\":{\"field\":\"x\"},\"y\":{\"field\":\"y\"}},\"id\":\"1165\",\"type\":\"Line\"},{\"attributes\":{\"line_alpha\":0.1,\"line_color\":\"#1f77b4\",\"line_width\":2,\"x\":{\"field\":\"x\"},\"y\":{\"field\":\"y\"}},\"id\":\"1148\",\"type\":\"Line\"},{\"attributes\":{\"items\":[{\"id\":\"1162\"},{\"id\":\"1180\"}]},\"id\":\"1161\",\"type\":\"Legend\"},{\"attributes\":{\"data_source\":{\"id\":\"1146\"},\"glyph\":{\"id\":\"1147\"},\"hover_glyph\":null,\"muted_glyph\":null,\"nonselection_glyph\":{\"id\":\"1148\"},\"view\":{\"id\":\"1150\"}},\"id\":\"1149\",\"type\":\"GlyphRenderer\"},{\"attributes\":{\"fill_color\":{\"value\":\"white\"},\"line_color\":{\"value\":\"orange\"},\"x\":{\"field\":\"x\"},\"y\":{\"field\":\"y\"}},\"id\":\"1182\",\"type\":\"Circle\"},{\"attributes\":{},\"id\":\"1118\",\"type\":\"DataRange1d\"},{\"attributes\":{},\"id\":\"1197\",\"type\":\"Selection\"},{\"attributes\":{},\"id\":\"1158\",\"type\":\"Selection\"},{\"attributes\":{},\"id\":\"1198\",\"type\":\"UnionRenderers\"},{\"attributes\":{},\"id\":\"1177\",\"type\":\"Selection\"},{\"attributes\":{\"bottom_units\":\"screen\",\"fill_alpha\":0.5,\"fill_color\":\"lightgrey\",\"left_units\":\"screen\",\"level\":\"overlay\",\"line_alpha\":1.0,\"line_color\":\"black\",\"line_dash\":[4,4],\"line_width\":2,\"right_units\":\"screen\",\"syncable\":false,\"top_units\":\"screen\"},\"id\":\"1138\",\"type\":\"BoxAnnotation\"},{\"attributes\":{},\"id\":\"1159\",\"type\":\"UnionRenderers\"},{\"attributes\":{},\"id\":\"1178\",\"type\":\"UnionRenderers\"}],\"root_ids\":[\"1113\"]},\"title\":\"Bokeh Application\",\"version\":\"2.3.2\"}};\n",
       "  var render_items = [{\"docid\":\"4be8964a-68e2-4e68-8c33-b9396dcb5f65\",\"root_ids\":[\"1113\"],\"roots\":{\"1113\":\"bd9f952f-8286-4f7a-9a8d-136f54382fbf\"}}];\n",
       "  root.Bokeh.embed.embed_items_notebook(docs_json, render_items);\n",
       "\n",
       "  }\n",
       "  if (root.Bokeh !== undefined) {\n",
       "    embed_document(root);\n",
       "  } else {\n",
       "    var attempts = 0;\n",
       "    var timer = setInterval(function(root) {\n",
       "      if (root.Bokeh !== undefined) {\n",
       "        clearInterval(timer);\n",
       "        embed_document(root);\n",
       "      } else {\n",
       "        attempts++;\n",
       "        if (attempts > 100) {\n",
       "          clearInterval(timer);\n",
       "          console.log(\"Bokeh: ERROR: Unable to run BokehJS code because BokehJS library is missing\");\n",
       "        }\n",
       "      }\n",
       "    }, 10, root)\n",
       "  }\n",
       "})(window);"
      ],
      "application/vnd.bokehjs_exec.v0+json": ""
     },
     "metadata": {
      "application/vnd.bokehjs_exec.v0+json": {
       "id": "1113"
      }
     },
     "output_type": "display_data"
    }
   ],
   "source": [
    "# plotting the data for Germany and Switzerland in one visualization,\n",
    "# adding circles for each data point for Switzerland\n",
    "plot = figure(title='Population Density of Germany and Switzerland',x_axis_label='Year', y_axis_label='Population Density')\n",
    "plot.line(years, de_vals, line_width=2, legend_label='Germany')\n",
    "plot.line(years, ch_vals, line_width=2, color='orange', legend_label='Switzerland')\n",
    "plot.circle(years, ch_vals, size=4, line_color='orange', fill_color='white',legend_label='Switzerland')\n",
    "show(plot)"
   ]
  },
  {
   "cell_type": "code",
   "execution_count": 9,
   "id": "314d31eb",
   "metadata": {},
   "outputs": [
    {
     "data": {
      "text/plain": [
       "Country Code                                                    VNM\n",
       "Indicator Name    Population density (people per sq. km of land ...\n",
       "Indicator Code                                          EN.POP.DNST\n",
       "1960                                                            NaN\n",
       "1961                                                     108.845126\n",
       "1962                                                     110.980368\n",
       "1963                                                     113.170912\n",
       "1964                                                     115.438262\n",
       "1965                                                      117.79471\n",
       "1966                                                     120.255615\n",
       "1967                                                     122.830194\n",
       "1968                                                     125.521521\n",
       "1969                                                     128.338812\n",
       "1970                                                     131.275922\n",
       "1971                                                     134.335924\n",
       "1972                                                     137.509601\n",
       "1973                                                     140.787735\n",
       "1974                                                     144.145749\n",
       "1975                                                     147.562137\n",
       "1976                                                     151.027681\n",
       "1977                                                     154.520876\n",
       "1978                                                      158.02636\n",
       "1979                                                     161.522627\n",
       "1980                                                     164.982027\n",
       "1981                                                     168.121909\n",
       "1982                                                     171.086669\n",
       "1983                                                     174.060647\n",
       "1984                                                     177.246613\n",
       "1985                                                     180.859627\n",
       "1986                                                     185.102461\n",
       "1987                                                      189.71397\n",
       "1988                                                     194.362346\n",
       "1989                                                     199.004578\n",
       "1990                                                     202.822514\n",
       "1991                                                     206.588221\n",
       "1992                                                     210.298627\n",
       "1993                                                     213.968171\n",
       "1994                                                     217.593474\n",
       "1995                                                     221.191127\n",
       "1996                                                     224.758672\n",
       "1997                                                     228.292421\n",
       "1998                                                     231.823712\n",
       "1999                                                     235.327353\n",
       "2000                                                     249.568893\n",
       "2001                                                     252.725899\n",
       "2002                                                     256.118821\n",
       "2003                                                     259.513658\n",
       "2004                                                     262.638759\n",
       "2005                                                     265.720966\n",
       "2006                                                     268.685136\n",
       "2007                                                     271.611249\n",
       "2008                                                     274.514464\n",
       "2009                                                     277.437353\n",
       "2010                                                     280.364111\n",
       "2011                                                     283.356339\n",
       "2012                                                     286.416616\n",
       "2013                                                     289.481407\n",
       "2014                                                     292.607798\n",
       "2015                                                     295.751927\n",
       "2016                                                            NaN\n",
       "Name: Vietnam, dtype: object"
      ]
     },
     "execution_count": 9,
     "metadata": {},
     "output_type": "execute_result"
    }
   ],
   "source": [
    "dataset.loc['Vietnam']"
   ]
  },
  {
   "cell_type": "code",
   "execution_count": 10,
   "id": "55f08115",
   "metadata": {},
   "outputs": [],
   "source": [
    "vn_vals  =[dataset.loc[['Vietnam']][year] for year in years]"
   ]
  },
  {
   "cell_type": "code",
   "execution_count": 11,
   "id": "02798031",
   "metadata": {},
   "outputs": [
    {
     "data": {
      "text/html": [
       "\n",
       "\n",
       "\n",
       "\n",
       "\n",
       "\n",
       "  <div class=\"bk-root\" id=\"ea20a117-888f-4101-9b6a-a1f96fa10c21\" data-root-id=\"1294\"></div>\n"
      ]
     },
     "metadata": {},
     "output_type": "display_data"
    },
    {
     "data": {
      "application/javascript": [
       "(function(root) {\n",
       "  function embed_document(root) {\n",
       "    \n",
       "  var docs_json = {\"4c9cf6e3-1a2e-44a1-bf41-aa71ad88d629\":{\"defs\":[],\"roots\":{\"references\":[{\"attributes\":{\"below\":[{\"id\":\"1305\"}],\"center\":[{\"id\":\"1308\"},{\"id\":\"1312\"},{\"id\":\"1342\"}],\"left\":[{\"id\":\"1309\"}],\"renderers\":[{\"id\":\"1330\"}],\"title\":{\"id\":\"1295\"},\"toolbar\":{\"id\":\"1320\"},\"x_range\":{\"id\":\"1297\"},\"x_scale\":{\"id\":\"1301\"},\"y_range\":{\"id\":\"1299\"},\"y_scale\":{\"id\":\"1303\"}},\"id\":\"1294\",\"subtype\":\"Figure\",\"type\":\"Plot\"},{\"attributes\":{\"line_color\":\"#1f77b4\",\"line_width\":2,\"x\":{\"field\":\"x\"},\"y\":{\"field\":\"y\"}},\"id\":\"1328\",\"type\":\"Line\"},{\"attributes\":{},\"id\":\"1313\",\"type\":\"PanTool\"},{\"attributes\":{\"source\":{\"id\":\"1327\"}},\"id\":\"1331\",\"type\":\"CDSView\"},{\"attributes\":{\"line_alpha\":0.1,\"line_color\":\"#1f77b4\",\"line_width\":2,\"x\":{\"field\":\"x\"},\"y\":{\"field\":\"y\"}},\"id\":\"1329\",\"type\":\"Line\"},{\"attributes\":{\"items\":[{\"id\":\"1343\"}]},\"id\":\"1342\",\"type\":\"Legend\"},{\"attributes\":{\"data\":{\"x\":[\"1960\",\"1961\",\"1962\",\"1963\",\"1964\",\"1965\",\"1966\",\"1967\",\"1968\",\"1969\",\"1970\",\"1971\",\"1972\",\"1973\",\"1974\",\"1975\",\"1976\",\"1977\",\"1978\",\"1979\",\"1980\",\"1981\",\"1982\",\"1983\",\"1984\",\"1985\",\"1986\",\"1987\",\"1988\",\"1989\",\"1990\",\"1991\",\"1992\",\"1993\",\"1994\",\"1995\",\"1996\",\"1997\",\"1998\",\"1999\",\"2000\",\"2001\",\"2002\",\"2003\",\"2004\",\"2005\",\"2006\",\"2007\",\"2008\",\"2009\",\"2010\",\"2011\",\"2012\",\"2013\",\"2014\",\"2015\",\"2016\"],\"y\":[[\"NaN\"],[108.845125810317],[110.980368060463],[113.170911548742],[115.438262312206],[117.794709514885],[120.255614611816],[122.830194476021],[125.521521398507],[128.338812252297],[131.275922455375],[134.33592429875],[137.509600909398],[140.787735414298],[144.145749485391],[147.562137085625],[151.027681341977],[154.520876217395],[158.026360256844],[161.52262742327],[164.982027097607],[168.121908507174],[171.086669329319],[174.060647024486],[177.246612799164],[180.859627023872],[185.102460905097],[189.713969707211],[194.362346001413],[199.004577713601],[202.822513748502],[206.588220836278],[210.29862668592],[213.968171065163],[217.5934744539],[221.191127223571],[224.758671541368],[228.292420658085],[231.823711941995],[235.327352606839],[249.568893461069],[252.72589925745],[256.118821445822],[259.513658206212],[262.638758989906],[265.720966233431],[268.685135614539],[271.61124907279],[274.514464475764],[277.437352855807],[280.3641113297],[283.356338891218],[286.416615602928],[289.48140742413],[292.607798239107],[295.751926984229],[\"NaN\"]]},\"selected\":{\"id\":\"1339\"},\"selection_policy\":{\"id\":\"1340\"}},\"id\":\"1327\",\"type\":\"ColumnDataSource\"},{\"attributes\":{\"text\":\"Population Density of Vietnam\"},\"id\":\"1295\",\"type\":\"Title\"},{\"attributes\":{\"axis\":{\"id\":\"1305\"},\"ticker\":null},\"id\":\"1308\",\"type\":\"Grid\"},{\"attributes\":{},\"id\":\"1339\",\"type\":\"Selection\"},{\"attributes\":{},\"id\":\"1318\",\"type\":\"HelpTool\"},{\"attributes\":{\"bottom_units\":\"screen\",\"fill_alpha\":0.5,\"fill_color\":\"lightgrey\",\"left_units\":\"screen\",\"level\":\"overlay\",\"line_alpha\":1.0,\"line_color\":\"black\",\"line_dash\":[4,4],\"line_width\":2,\"right_units\":\"screen\",\"syncable\":false,\"top_units\":\"screen\"},\"id\":\"1319\",\"type\":\"BoxAnnotation\"},{\"attributes\":{\"axis\":{\"id\":\"1309\"},\"dimension\":1,\"ticker\":null},\"id\":\"1312\",\"type\":\"Grid\"},{\"attributes\":{\"active_multi\":null,\"tools\":[{\"id\":\"1313\"},{\"id\":\"1314\"},{\"id\":\"1315\"},{\"id\":\"1316\"},{\"id\":\"1317\"},{\"id\":\"1318\"}]},\"id\":\"1320\",\"type\":\"Toolbar\"},{\"attributes\":{},\"id\":\"1340\",\"type\":\"UnionRenderers\"},{\"attributes\":{},\"id\":\"1301\",\"type\":\"LinearScale\"},{\"attributes\":{\"data_source\":{\"id\":\"1327\"},\"glyph\":{\"id\":\"1328\"},\"hover_glyph\":null,\"muted_glyph\":null,\"nonselection_glyph\":{\"id\":\"1329\"},\"view\":{\"id\":\"1331\"}},\"id\":\"1330\",\"type\":\"GlyphRenderer\"},{\"attributes\":{},\"id\":\"1314\",\"type\":\"WheelZoomTool\"},{\"attributes\":{},\"id\":\"1333\",\"type\":\"AllLabels\"},{\"attributes\":{},\"id\":\"1316\",\"type\":\"SaveTool\"},{\"attributes\":{},\"id\":\"1310\",\"type\":\"BasicTicker\"},{\"attributes\":{},\"id\":\"1335\",\"type\":\"BasicTickFormatter\"},{\"attributes\":{\"overlay\":{\"id\":\"1319\"}},\"id\":\"1315\",\"type\":\"BoxZoomTool\"},{\"attributes\":{},\"id\":\"1297\",\"type\":\"DataRange1d\"},{\"attributes\":{},\"id\":\"1317\",\"type\":\"ResetTool\"},{\"attributes\":{},\"id\":\"1303\",\"type\":\"LinearScale\"},{\"attributes\":{},\"id\":\"1336\",\"type\":\"AllLabels\"},{\"attributes\":{},\"id\":\"1299\",\"type\":\"DataRange1d\"},{\"attributes\":{\"axis_label\":\"Population Density\",\"formatter\":{\"id\":\"1335\"},\"major_label_policy\":{\"id\":\"1333\"},\"ticker\":{\"id\":\"1310\"}},\"id\":\"1309\",\"type\":\"LinearAxis\"},{\"attributes\":{},\"id\":\"1338\",\"type\":\"BasicTickFormatter\"},{\"attributes\":{\"axis_label\":\"Year\",\"formatter\":{\"id\":\"1338\"},\"major_label_policy\":{\"id\":\"1336\"},\"ticker\":{\"id\":\"1306\"}},\"id\":\"1305\",\"type\":\"LinearAxis\"},{\"attributes\":{},\"id\":\"1306\",\"type\":\"BasicTicker\"},{\"attributes\":{\"label\":{\"value\":\"Vietnam\"},\"renderers\":[{\"id\":\"1330\"}]},\"id\":\"1343\",\"type\":\"LegendItem\"}],\"root_ids\":[\"1294\"]},\"title\":\"Bokeh Application\",\"version\":\"2.3.2\"}};\n",
       "  var render_items = [{\"docid\":\"4c9cf6e3-1a2e-44a1-bf41-aa71ad88d629\",\"root_ids\":[\"1294\"],\"roots\":{\"1294\":\"ea20a117-888f-4101-9b6a-a1f96fa10c21\"}}];\n",
       "  root.Bokeh.embed.embed_items_notebook(docs_json, render_items);\n",
       "\n",
       "  }\n",
       "  if (root.Bokeh !== undefined) {\n",
       "    embed_document(root);\n",
       "  } else {\n",
       "    var attempts = 0;\n",
       "    var timer = setInterval(function(root) {\n",
       "      if (root.Bokeh !== undefined) {\n",
       "        clearInterval(timer);\n",
       "        embed_document(root);\n",
       "      } else {\n",
       "        attempts++;\n",
       "        if (attempts > 100) {\n",
       "          clearInterval(timer);\n",
       "          console.log(\"Bokeh: ERROR: Unable to run BokehJS code because BokehJS library is missing\");\n",
       "        }\n",
       "      }\n",
       "    }, 10, root)\n",
       "  }\n",
       "})(window);"
      ],
      "application/vnd.bokehjs_exec.v0+json": ""
     },
     "metadata": {
      "application/vnd.bokehjs_exec.v0+json": {
       "id": "1294"
      }
     },
     "output_type": "display_data"
    }
   ],
   "source": [
    "plot = figure(title='Population Density of Vietnam', x_axis_label='Year',y_axis_label='Population Density')\n",
    "plot.line(years, vn_vals, line_width=2, legend_label='Vietnam')\n",
    "show(plot)"
   ]
  },
  {
   "cell_type": "code",
   "execution_count": 12,
   "id": "0013b2ca",
   "metadata": {},
   "outputs": [
    {
     "data": {
      "text/html": [
       "\n",
       "\n",
       "\n",
       "\n",
       "\n",
       "\n",
       "  <div class=\"bk-root\" id=\"77a262b2-3007-4624-8381-975c7efbb168\" data-root-id=\"1574\"></div>\n"
      ]
     },
     "metadata": {},
     "output_type": "display_data"
    },
    {
     "data": {
      "application/javascript": [
       "(function(root) {\n",
       "  function embed_document(root) {\n",
       "    \n",
       "  var docs_json = {\"789ea2ba-b997-444f-a031-a6edc5980ac9\":{\"defs\":[],\"roots\":{\"references\":[{\"attributes\":{\"children\":[{\"id\":\"1573\"},{\"id\":\"1571\"}]},\"id\":\"1574\",\"type\":\"Column\"},{\"attributes\":{},\"id\":\"1561\",\"type\":\"AllLabels\"},{\"attributes\":{},\"id\":\"1563\",\"type\":\"BasicTickFormatter\"},{\"attributes\":{},\"id\":\"1564\",\"type\":\"AllLabels\"},{\"attributes\":{},\"id\":\"1566\",\"type\":\"BasicTickFormatter\"},{\"attributes\":{\"axis\":{\"id\":\"1505\"},\"dimension\":1,\"ticker\":null},\"id\":\"1508\",\"type\":\"Grid\"},{\"attributes\":{},\"id\":\"1510\",\"type\":\"WheelZoomTool\"},{\"attributes\":{\"bottom_units\":\"screen\",\"fill_alpha\":0.5,\"fill_color\":\"lightgrey\",\"left_units\":\"screen\",\"level\":\"overlay\",\"line_alpha\":1.0,\"line_color\":\"black\",\"line_dash\":[4,4],\"line_width\":2,\"right_units\":\"screen\",\"syncable\":false,\"top_units\":\"screen\"},\"id\":\"1453\",\"type\":\"BoxAnnotation\"},{\"attributes\":{\"data\":{\"x\":[\"1960\",\"1961\",\"1962\",\"1963\",\"1964\",\"1965\",\"1966\",\"1967\",\"1968\",\"1969\",\"1970\",\"1971\",\"1972\",\"1973\",\"1974\",\"1975\",\"1976\",\"1977\",\"1978\",\"1979\",\"1980\",\"1981\",\"1982\",\"1983\",\"1984\",\"1985\",\"1986\",\"1987\",\"1988\",\"1989\",\"1990\",\"1991\",\"1992\",\"1993\",\"1994\",\"1995\",\"1996\",\"1997\",\"1998\",\"1999\",\"2000\",\"2001\",\"2002\",\"2003\",\"2004\",\"2005\",\"2006\",\"2007\",\"2008\",\"2009\",\"2010\",\"2011\",\"2012\",\"2013\",\"2014\",\"2015\",\"2016\"],\"y\":[[\"NaN\"],[210.172806690917],[212.029284220777],[214.001526651963],[215.731495431501],[217.579970211669],[219.403405608226],[220.408833385845],[221.391212442357],[223.153787987283],[223.897370606937],[224.308544095323],[225.384389768854],[226.095339844757],[226.183464612036],[225.341717984705],[224.377595737977],[223.870231718844],[223.675479047919],[223.774382035345],[224.239039899178],[224.580835218973],[224.367330220835],[223.77991579068],[223.007719187695],[222.50987597743],[222.611737748117],[222.953971300089],[223.826709248704],[225.564354251998],[227.517053819494],[229.18080944061],[230.930020336264],[232.459793194317],[233.274177193435],[233.967490690347],[234.652470709559],[235.022979515829],[235.078777720474],[235.257731102069],[235.596813297034],[236.027300085985],[236.451570830706],[236.616427281328],[236.592195429653],[236.464680582636],[236.225197866483],[235.943361918146],[235.522178240542],[234.939637417171],[234.606908225034],[234.673149529493],[230.750625466231],[235.647997360418],[232.347793653526],[233.583362024445],[\"NaN\"]]},\"selected\":{\"id\":\"1545\"},\"selection_policy\":{\"id\":\"1546\"}},\"id\":\"1523\",\"type\":\"ColumnDataSource\"},{\"attributes\":{},\"id\":\"1506\",\"type\":\"BasicTicker\"},{\"attributes\":{\"line_color\":\"#1f77b4\",\"line_width\":2,\"x\":{\"field\":\"x\"},\"y\":{\"field\":\"y\"}},\"id\":\"1524\",\"type\":\"Line\"},{\"attributes\":{},\"id\":\"1514\",\"type\":\"HelpTool\"},{\"attributes\":{},\"id\":\"1509\",\"type\":\"PanTool\"},{\"attributes\":{\"overlay\":{\"id\":\"1515\"}},\"id\":\"1511\",\"type\":\"BoxZoomTool\"},{\"attributes\":{},\"id\":\"1512\",\"type\":\"SaveTool\"},{\"attributes\":{},\"id\":\"1513\",\"type\":\"ResetTool\"},{\"attributes\":{},\"id\":\"1475\",\"type\":\"BasicTicker\"},{\"attributes\":{},\"id\":\"1567\",\"type\":\"Selection\"},{\"attributes\":{\"toolbar\":{\"id\":\"1572\"},\"toolbar_location\":\"above\"},\"id\":\"1573\",\"type\":\"ToolbarBox\"},{\"attributes\":{},\"id\":\"1568\",\"type\":\"UnionRenderers\"},{\"attributes\":{},\"id\":\"1471\",\"type\":\"BasicTicker\"},{\"attributes\":{},\"id\":\"1468\",\"type\":\"LinearScale\"},{\"attributes\":{\"axis_label\":\"Year\",\"formatter\":{\"id\":\"1555\"},\"major_label_policy\":{\"id\":\"1553\"},\"ticker\":{\"id\":\"1471\"}},\"id\":\"1470\",\"type\":\"LinearAxis\"},{\"attributes\":{\"toolbars\":[{\"id\":\"1454\"},{\"id\":\"1485\"},{\"id\":\"1516\"}],\"tools\":[{\"id\":\"1447\"},{\"id\":\"1448\"},{\"id\":\"1449\"},{\"id\":\"1450\"},{\"id\":\"1451\"},{\"id\":\"1452\"},{\"id\":\"1478\"},{\"id\":\"1479\"},{\"id\":\"1480\"},{\"id\":\"1481\"},{\"id\":\"1482\"},{\"id\":\"1483\"},{\"id\":\"1509\"},{\"id\":\"1510\"},{\"id\":\"1511\"},{\"id\":\"1512\"},{\"id\":\"1513\"},{\"id\":\"1514\"}]},\"id\":\"1572\",\"type\":\"ProxyToolbar\"},{\"attributes\":{},\"id\":\"1466\",\"type\":\"LinearScale\"},{\"attributes\":{\"axis\":{\"id\":\"1470\"},\"ticker\":null},\"id\":\"1473\",\"type\":\"Grid\"},{\"attributes\":{},\"id\":\"1497\",\"type\":\"LinearScale\"},{\"attributes\":{\"source\":{\"id\":\"1528\"}},\"id\":\"1532\",\"type\":\"CDSView\"},{\"attributes\":{\"below\":[{\"id\":\"1501\"}],\"center\":[{\"id\":\"1504\"},{\"id\":\"1508\"}],\"height\":300,\"left\":[{\"id\":\"1505\"}],\"renderers\":[{\"id\":\"1536\"}],\"title\":{\"id\":\"1493\"},\"toolbar\":{\"id\":\"1516\"},\"toolbar_location\":null,\"x_range\":{\"id\":\"1431\"},\"x_scale\":{\"id\":\"1497\"},\"y_range\":{\"id\":\"1433\"},\"y_scale\":{\"id\":\"1499\"}},\"id\":\"1492\",\"subtype\":\"Figure\",\"type\":\"Plot\"},{\"attributes\":{},\"id\":\"1479\",\"type\":\"WheelZoomTool\"},{\"attributes\":{\"axis_label\":\"Population Density\",\"formatter\":{\"id\":\"1552\"},\"major_label_policy\":{\"id\":\"1550\"},\"ticker\":{\"id\":\"1475\"}},\"id\":\"1474\",\"type\":\"LinearAxis\"},{\"attributes\":{\"axis\":{\"id\":\"1474\"},\"dimension\":1,\"ticker\":null},\"id\":\"1477\",\"type\":\"Grid\"},{\"attributes\":{\"bottom_units\":\"screen\",\"fill_alpha\":0.5,\"fill_color\":\"lightgrey\",\"left_units\":\"screen\",\"level\":\"overlay\",\"line_alpha\":1.0,\"line_color\":\"black\",\"line_dash\":[4,4],\"line_width\":2,\"right_units\":\"screen\",\"syncable\":false,\"top_units\":\"screen\"},\"id\":\"1515\",\"type\":\"BoxAnnotation\"},{\"attributes\":{\"active_multi\":null,\"tools\":[{\"id\":\"1478\"},{\"id\":\"1479\"},{\"id\":\"1480\"},{\"id\":\"1481\"},{\"id\":\"1482\"},{\"id\":\"1483\"}]},\"id\":\"1485\",\"type\":\"Toolbar\"},{\"attributes\":{\"children\":[[{\"id\":\"1428\"},0,0],[{\"id\":\"1461\"},0,1],[{\"id\":\"1492\"},1,0]]},\"id\":\"1571\",\"type\":\"GridBox\"},{\"attributes\":{},\"id\":\"1483\",\"type\":\"HelpTool\"},{\"attributes\":{},\"id\":\"1478\",\"type\":\"PanTool\"},{\"attributes\":{\"overlay\":{\"id\":\"1484\"}},\"id\":\"1480\",\"type\":\"BoxZoomTool\"},{\"attributes\":{},\"id\":\"1481\",\"type\":\"SaveTool\"},{\"attributes\":{},\"id\":\"1482\",\"type\":\"ResetTool\"},{\"attributes\":{\"active_multi\":null,\"tools\":[{\"id\":\"1509\"},{\"id\":\"1510\"},{\"id\":\"1511\"},{\"id\":\"1512\"},{\"id\":\"1513\"},{\"id\":\"1514\"}]},\"id\":\"1516\",\"type\":\"Toolbar\"},{\"attributes\":{\"source\":{\"id\":\"1523\"}},\"id\":\"1527\",\"type\":\"CDSView\"},{\"attributes\":{\"bottom_units\":\"screen\",\"fill_alpha\":0.5,\"fill_color\":\"lightgrey\",\"left_units\":\"screen\",\"level\":\"overlay\",\"line_alpha\":1.0,\"line_color\":\"black\",\"line_dash\":[4,4],\"line_width\":2,\"right_units\":\"screen\",\"syncable\":false,\"top_units\":\"screen\"},\"id\":\"1484\",\"type\":\"BoxAnnotation\"},{\"attributes\":{\"line_color\":\"#1f77b4\",\"line_width\":2,\"x\":{\"field\":\"x\"},\"y\":{\"field\":\"y\"}},\"id\":\"1529\",\"type\":\"Line\"},{\"attributes\":{\"data_source\":{\"id\":\"1533\"},\"glyph\":{\"id\":\"1534\"},\"hover_glyph\":null,\"muted_glyph\":null,\"nonselection_glyph\":{\"id\":\"1535\"},\"view\":{\"id\":\"1537\"}},\"id\":\"1536\",\"type\":\"GlyphRenderer\"},{\"attributes\":{\"line_alpha\":0.1,\"line_color\":\"#1f77b4\",\"line_width\":2,\"x\":{\"field\":\"x\"},\"y\":{\"field\":\"y\"}},\"id\":\"1525\",\"type\":\"Line\"},{\"attributes\":{\"data\":{\"x\":[\"1960\",\"1961\",\"1962\",\"1963\",\"1964\",\"1965\",\"1966\",\"1967\",\"1968\",\"1969\",\"1970\",\"1971\",\"1972\",\"1973\",\"1974\",\"1975\",\"1976\",\"1977\",\"1978\",\"1979\",\"1980\",\"1981\",\"1982\",\"1983\",\"1984\",\"1985\",\"1986\",\"1987\",\"1988\",\"1989\",\"1990\",\"1991\",\"1992\",\"1993\",\"1994\",\"1995\",\"1996\",\"1997\",\"1998\",\"1999\",\"2000\",\"2001\",\"2002\",\"2003\",\"2004\",\"2005\",\"2006\",\"2007\",\"2008\",\"2009\",\"2010\",\"2011\",\"2012\",\"2013\",\"2014\",\"2015\",\"2016\"],\"y\":[[\"NaN\"],[137.479609390812],[141.009284557782],[144.056036227484],[146.458915199352],[148.160089050799],[149.716707144303],[151.583308034811],[153.504199554746],[155.24152499494],[156.367056263914],[157.189814814815],[158.392936652499],[159.566560412872],[160.428177494434],[160.358024691358],[159.444039668083],[158.904422181745],[158.918690548472],[159.238134992916],[159.871685893544],[160.748684476827],[161.690674964582],[162.385473588342],[162.965544283943],[163.686533937109],[164.540565154697],[165.577322978067],[166.798704748413],[168.152799210706],[169.888411039996],[172.025044903742],[173.932151078955],[175.523413190316],[176.928204609274],[178.114472918617],[178.907356810362],[179.343385533939],[179.881622223347],[180.746135357369],[181.769304726242],[182.9277635807],[184.321466524973],[185.698767743731],[186.984438259109],[188.195632370059],[189.385176000202],[191.090115396295],[193.533631946553],[195.966975402369],[198.018751897965],[200.23276647434],[202.370204474137],[204.710648851098],[207.223630934305],[209.711914161352],[\"NaN\"]]},\"selected\":{\"id\":\"1556\"},\"selection_policy\":{\"id\":\"1557\"}},\"id\":\"1528\",\"type\":\"ColumnDataSource\"},{\"attributes\":{\"line_alpha\":0.1,\"line_color\":\"#1f77b4\",\"line_width\":2,\"x\":{\"field\":\"x\"},\"y\":{\"field\":\"y\"}},\"id\":\"1530\",\"type\":\"Line\"},{\"attributes\":{\"data\":{\"x\":[\"1960\",\"1961\",\"1962\",\"1963\",\"1964\",\"1965\",\"1966\",\"1967\",\"1968\",\"1969\",\"1970\",\"1971\",\"1972\",\"1973\",\"1974\",\"1975\",\"1976\",\"1977\",\"1978\",\"1979\",\"1980\",\"1981\",\"1982\",\"1983\",\"1984\",\"1985\",\"1986\",\"1987\",\"1988\",\"1989\",\"1990\",\"1991\",\"1992\",\"1993\",\"1994\",\"1995\",\"1996\",\"1997\",\"1998\",\"1999\",\"2000\",\"2001\",\"2002\",\"2003\",\"2004\",\"2005\",\"2006\",\"2007\",\"2008\",\"2009\",\"2010\",\"2011\",\"2012\",\"2013\",\"2014\",\"2015\",\"2016\"],\"y\":[[\"NaN\"],[108.845125810317],[110.980368060463],[113.170911548742],[115.438262312206],[117.794709514885],[120.255614611816],[122.830194476021],[125.521521398507],[128.338812252297],[131.275922455375],[134.33592429875],[137.509600909398],[140.787735414298],[144.145749485391],[147.562137085625],[151.027681341977],[154.520876217395],[158.026360256844],[161.52262742327],[164.982027097607],[168.121908507174],[171.086669329319],[174.060647024486],[177.246612799164],[180.859627023872],[185.102460905097],[189.713969707211],[194.362346001413],[199.004577713601],[202.822513748502],[206.588220836278],[210.29862668592],[213.968171065163],[217.5934744539],[221.191127223571],[224.758671541368],[228.292420658085],[231.823711941995],[235.327352606839],[249.568893461069],[252.72589925745],[256.118821445822],[259.513658206212],[262.638758989906],[265.720966233431],[268.685135614539],[271.61124907279],[274.514464475764],[277.437352855807],[280.3641113297],[283.356338891218],[286.416615602928],[289.48140742413],[292.607798239107],[295.751926984229],[\"NaN\"]]},\"selected\":{\"id\":\"1567\"},\"selection_policy\":{\"id\":\"1568\"}},\"id\":\"1533\",\"type\":\"ColumnDataSource\"},{\"attributes\":{\"source\":{\"id\":\"1533\"}},\"id\":\"1537\",\"type\":\"CDSView\"},{\"attributes\":{},\"id\":\"1550\",\"type\":\"AllLabels\"},{\"attributes\":{\"line_color\":\"#1f77b4\",\"line_width\":2,\"x\":{\"field\":\"x\"},\"y\":{\"field\":\"y\"}},\"id\":\"1534\",\"type\":\"Line\"},{\"attributes\":{},\"id\":\"1539\",\"type\":\"AllLabels\"},{\"attributes\":{},\"id\":\"1552\",\"type\":\"BasicTickFormatter\"},{\"attributes\":{\"line_alpha\":0.1,\"line_color\":\"#1f77b4\",\"line_width\":2,\"x\":{\"field\":\"x\"},\"y\":{\"field\":\"y\"}},\"id\":\"1535\",\"type\":\"Line\"},{\"attributes\":{},\"id\":\"1541\",\"type\":\"BasicTickFormatter\"},{\"attributes\":{},\"id\":\"1553\",\"type\":\"AllLabels\"},{\"attributes\":{},\"id\":\"1542\",\"type\":\"AllLabels\"},{\"attributes\":{},\"id\":\"1555\",\"type\":\"BasicTickFormatter\"},{\"attributes\":{},\"id\":\"1544\",\"type\":\"BasicTickFormatter\"},{\"attributes\":{\"axis_label\":\"Population Density\",\"formatter\":{\"id\":\"1563\"},\"major_label_policy\":{\"id\":\"1561\"},\"ticker\":{\"id\":\"1506\"}},\"id\":\"1505\",\"type\":\"LinearAxis\"},{\"attributes\":{\"axis\":{\"id\":\"1501\"},\"ticker\":null},\"id\":\"1504\",\"type\":\"Grid\"},{\"attributes\":{},\"id\":\"1556\",\"type\":\"Selection\"},{\"attributes\":{\"data_source\":{\"id\":\"1528\"},\"glyph\":{\"id\":\"1529\"},\"hover_glyph\":null,\"muted_glyph\":null,\"nonselection_glyph\":{\"id\":\"1530\"},\"view\":{\"id\":\"1532\"}},\"id\":\"1531\",\"type\":\"GlyphRenderer\"},{\"attributes\":{},\"id\":\"1545\",\"type\":\"Selection\"},{\"attributes\":{},\"id\":\"1557\",\"type\":\"UnionRenderers\"},{\"attributes\":{\"text\":\"Population Density of Vietnam\"},\"id\":\"1493\",\"type\":\"Title\"},{\"attributes\":{},\"id\":\"1546\",\"type\":\"UnionRenderers\"},{\"attributes\":{},\"id\":\"1502\",\"type\":\"BasicTicker\"},{\"attributes\":{\"axis_label\":\"Year\",\"formatter\":{\"id\":\"1566\"},\"major_label_policy\":{\"id\":\"1564\"},\"ticker\":{\"id\":\"1502\"}},\"id\":\"1501\",\"type\":\"LinearAxis\"},{\"attributes\":{\"below\":[{\"id\":\"1439\"}],\"center\":[{\"id\":\"1442\"},{\"id\":\"1446\"}],\"height\":300,\"left\":[{\"id\":\"1443\"}],\"renderers\":[{\"id\":\"1526\"}],\"title\":{\"id\":\"1429\"},\"toolbar\":{\"id\":\"1454\"},\"toolbar_location\":null,\"x_range\":{\"id\":\"1431\"},\"x_scale\":{\"id\":\"1435\"},\"y_range\":{\"id\":\"1433\"},\"y_scale\":{\"id\":\"1437\"}},\"id\":\"1428\",\"subtype\":\"Figure\",\"type\":\"Plot\"},{\"attributes\":{\"below\":[{\"id\":\"1470\"}],\"center\":[{\"id\":\"1473\"},{\"id\":\"1477\"}],\"height\":300,\"left\":[{\"id\":\"1474\"}],\"renderers\":[{\"id\":\"1531\"}],\"title\":{\"id\":\"1462\"},\"toolbar\":{\"id\":\"1485\"},\"toolbar_location\":null,\"x_range\":{\"id\":\"1431\"},\"x_scale\":{\"id\":\"1466\"},\"y_range\":{\"id\":\"1433\"},\"y_scale\":{\"id\":\"1468\"}},\"id\":\"1461\",\"subtype\":\"Figure\",\"type\":\"Plot\"},{\"attributes\":{\"text\":\"Population Density of Switzerland\"},\"id\":\"1462\",\"type\":\"Title\"},{\"attributes\":{},\"id\":\"1499\",\"type\":\"LinearScale\"},{\"attributes\":{\"text\":\"Population Density of Germany\"},\"id\":\"1429\",\"type\":\"Title\"},{\"attributes\":{\"data_source\":{\"id\":\"1523\"},\"glyph\":{\"id\":\"1524\"},\"hover_glyph\":null,\"muted_glyph\":null,\"nonselection_glyph\":{\"id\":\"1525\"},\"view\":{\"id\":\"1527\"}},\"id\":\"1526\",\"type\":\"GlyphRenderer\"},{\"attributes\":{},\"id\":\"1431\",\"type\":\"DataRange1d\"},{\"attributes\":{},\"id\":\"1437\",\"type\":\"LinearScale\"},{\"attributes\":{},\"id\":\"1433\",\"type\":\"DataRange1d\"},{\"attributes\":{\"axis_label\":\"Year\",\"formatter\":{\"id\":\"1544\"},\"major_label_policy\":{\"id\":\"1542\"},\"ticker\":{\"id\":\"1440\"}},\"id\":\"1439\",\"type\":\"LinearAxis\"},{\"attributes\":{},\"id\":\"1435\",\"type\":\"LinearScale\"},{\"attributes\":{},\"id\":\"1440\",\"type\":\"BasicTicker\"},{\"attributes\":{\"axis\":{\"id\":\"1439\"},\"ticker\":null},\"id\":\"1442\",\"type\":\"Grid\"},{\"attributes\":{},\"id\":\"1448\",\"type\":\"WheelZoomTool\"},{\"attributes\":{\"axis_label\":\"Population Density\",\"formatter\":{\"id\":\"1541\"},\"major_label_policy\":{\"id\":\"1539\"},\"ticker\":{\"id\":\"1444\"}},\"id\":\"1443\",\"type\":\"LinearAxis\"},{\"attributes\":{\"axis\":{\"id\":\"1443\"},\"dimension\":1,\"ticker\":null},\"id\":\"1446\",\"type\":\"Grid\"},{\"attributes\":{},\"id\":\"1444\",\"type\":\"BasicTicker\"},{\"attributes\":{\"active_multi\":null,\"tools\":[{\"id\":\"1447\"},{\"id\":\"1448\"},{\"id\":\"1449\"},{\"id\":\"1450\"},{\"id\":\"1451\"},{\"id\":\"1452\"}]},\"id\":\"1454\",\"type\":\"Toolbar\"},{\"attributes\":{},\"id\":\"1452\",\"type\":\"HelpTool\"},{\"attributes\":{},\"id\":\"1447\",\"type\":\"PanTool\"},{\"attributes\":{\"overlay\":{\"id\":\"1453\"}},\"id\":\"1449\",\"type\":\"BoxZoomTool\"},{\"attributes\":{},\"id\":\"1450\",\"type\":\"SaveTool\"},{\"attributes\":{},\"id\":\"1451\",\"type\":\"ResetTool\"}],\"root_ids\":[\"1574\"]},\"title\":\"Bokeh Application\",\"version\":\"2.3.2\"}};\n",
       "  var render_items = [{\"docid\":\"789ea2ba-b997-444f-a031-a6edc5980ac9\",\"root_ids\":[\"1574\"],\"roots\":{\"1574\":\"77a262b2-3007-4624-8381-975c7efbb168\"}}];\n",
       "  root.Bokeh.embed.embed_items_notebook(docs_json, render_items);\n",
       "\n",
       "  }\n",
       "  if (root.Bokeh !== undefined) {\n",
       "    embed_document(root);\n",
       "  } else {\n",
       "    var attempts = 0;\n",
       "    var timer = setInterval(function(root) {\n",
       "      if (root.Bokeh !== undefined) {\n",
       "        clearInterval(timer);\n",
       "        embed_document(root);\n",
       "      } else {\n",
       "        attempts++;\n",
       "        if (attempts > 100) {\n",
       "          clearInterval(timer);\n",
       "          console.log(\"Bokeh: ERROR: Unable to run BokehJS code because BokehJS library is missing\");\n",
       "        }\n",
       "      }\n",
       "    }, 10, root)\n",
       "  }\n",
       "})(window);"
      ],
      "application/vnd.bokehjs_exec.v0+json": ""
     },
     "metadata": {
      "application/vnd.bokehjs_exec.v0+json": {
       "id": "1574"
      }
     },
     "output_type": "display_data"
    }
   ],
   "source": [
    "# plotting the Germany and Switzerland plot in two different visualizations\n",
    "# that are interconnected in terms of view port\n",
    "from bokeh.layouts import gridplot\n",
    "plot_de = figure(title='Population Density of Germany', x_axis_label='Year',\n",
    "                y_axis_label='Population Density', plot_height=300)\n",
    "plot_ch = figure(title='Population Density of Switzerland', x_axis_label='Year',\n",
    "                y_axis_label='Population Density', plot_height=300, x_range=plot_de.x_range,\n",
    "                y_range=plot_de.y_range)\n",
    "plot_vn =figure(title='Population Density of Vietnam', x_axis_label='Year',\n",
    "                y_axis_label='Population Density',plot_height=300, x_range = plot_ch.x_range,\n",
    "                y_range = plot_ch.y_range)\n",
    "plot_de.line(years, de_vals, line_width=2)\n",
    "plot_ch.line(years, ch_vals, line_width=2)\n",
    "plot_vn.line(years, vn_vals, line_width=2)\n",
    "plot = gridplot([[plot_de, plot_ch],[plot_vn]])\n",
    "show(plot)"
   ]
  },
  {
   "cell_type": "code",
   "execution_count": 13,
   "id": "a2556dd7",
   "metadata": {},
   "outputs": [],
   "source": [
    "# preparing our data of the mean values per year and Japan\n",
    "years = [year for year in dataset.columns if not year[0].isalpha()]\n",
    "mean_pop_vals = [np.mean(dataset[year]) for year in years]\n",
    "jp_vals = [dataset.loc[['Japan']][year] for year in years]\n",
    "vn_vals = [dataset.loc[['Vietnam']][year] for year in years]"
   ]
  },
  {
   "cell_type": "code",
   "execution_count": 14,
   "id": "42539997",
   "metadata": {},
   "outputs": [
    {
     "data": {
      "text/html": [
       "\n",
       "\n",
       "\n",
       "\n",
       "\n",
       "\n",
       "  <div class=\"bk-root\" id=\"ad55a60a-4e27-493d-923d-d58b44506315\" data-root-id=\"1789\"></div>\n"
      ]
     },
     "metadata": {},
     "output_type": "display_data"
    },
    {
     "data": {
      "application/javascript": [
       "(function(root) {\n",
       "  function embed_document(root) {\n",
       "    \n",
       "  var docs_json = {\"a561d50a-9110-4b72-8fd7-297b674ef18b\":{\"defs\":[],\"roots\":{\"references\":[{\"attributes\":{\"below\":[{\"id\":\"1800\"}],\"center\":[{\"id\":\"1803\"},{\"id\":\"1807\"},{\"id\":\"1837\"}],\"left\":[{\"id\":\"1804\"}],\"renderers\":[{\"id\":\"1825\"},{\"id\":\"1842\"},{\"id\":\"1860\"}],\"title\":{\"id\":\"1790\"},\"toolbar\":{\"id\":\"1815\"},\"x_range\":{\"id\":\"1792\"},\"x_scale\":{\"id\":\"1796\"},\"y_range\":{\"id\":\"1794\"},\"y_scale\":{\"id\":\"1798\"}},\"id\":\"1789\",\"subtype\":\"Figure\",\"type\":\"Plot\"},{\"attributes\":{\"source\":{\"id\":\"1839\"}},\"id\":\"1843\",\"type\":\"CDSView\"},{\"attributes\":{\"source\":{\"id\":\"1857\"}},\"id\":\"1861\",\"type\":\"CDSView\"},{\"attributes\":{\"fill_alpha\":{\"value\":0.1},\"fill_color\":{\"value\":\"#1f77b4\"},\"line_alpha\":{\"value\":0.1},\"line_color\":{\"value\":\"Green\"},\"marker\":{\"value\":\"cross\"},\"x\":{\"field\":\"x\"},\"y\":{\"field\":\"y\"}},\"id\":\"1859\",\"type\":\"Scatter\"},{\"attributes\":{},\"id\":\"1792\",\"type\":\"DataRange1d\"},{\"attributes\":{\"fill_alpha\":{\"value\":0.1},\"fill_color\":{\"value\":\"#1f77b4\"},\"line_alpha\":{\"value\":0.1},\"line_color\":{\"value\":\"red\"},\"marker\":{\"value\":\"cross\"},\"x\":{\"field\":\"x\"},\"y\":{\"field\":\"y\"}},\"id\":\"1841\",\"type\":\"Scatter\"},{\"attributes\":{},\"id\":\"1834\",\"type\":\"Selection\"},{\"attributes\":{\"data_source\":{\"id\":\"1839\"},\"glyph\":{\"id\":\"1840\"},\"hover_glyph\":null,\"muted_glyph\":null,\"nonselection_glyph\":{\"id\":\"1841\"},\"view\":{\"id\":\"1843\"}},\"id\":\"1842\",\"type\":\"GlyphRenderer\"},{\"attributes\":{\"data_source\":{\"id\":\"1857\"},\"glyph\":{\"id\":\"1858\"},\"hover_glyph\":null,\"muted_glyph\":null,\"nonselection_glyph\":{\"id\":\"1859\"},\"view\":{\"id\":\"1861\"}},\"id\":\"1860\",\"type\":\"GlyphRenderer\"},{\"attributes\":{},\"id\":\"1835\",\"type\":\"UnionRenderers\"},{\"attributes\":{\"bottom_units\":\"screen\",\"fill_alpha\":0.5,\"fill_color\":\"lightgrey\",\"left_units\":\"screen\",\"level\":\"overlay\",\"line_alpha\":1.0,\"line_color\":\"black\",\"line_dash\":[4,4],\"line_width\":2,\"right_units\":\"screen\",\"syncable\":false,\"top_units\":\"screen\"},\"id\":\"1814\",\"type\":\"BoxAnnotation\"},{\"attributes\":{\"axis_label\":\"Year\",\"formatter\":{\"id\":\"1833\"},\"major_label_policy\":{\"id\":\"1831\"},\"ticker\":{\"id\":\"1801\"}},\"id\":\"1800\",\"type\":\"LinearAxis\"},{\"attributes\":{\"label\":{\"value\":\"Japan\"},\"renderers\":[{\"id\":\"1842\"}]},\"id\":\"1856\",\"type\":\"LegendItem\"},{\"attributes\":{\"label\":{\"value\":\"Vietnam\"},\"renderers\":[{\"id\":\"1860\"}]},\"id\":\"1876\",\"type\":\"LegendItem\"},{\"attributes\":{},\"id\":\"1801\",\"type\":\"BasicTicker\"},{\"attributes\":{},\"id\":\"1796\",\"type\":\"LinearScale\"},{\"attributes\":{},\"id\":\"1794\",\"type\":\"DataRange1d\"},{\"attributes\":{},\"id\":\"1798\",\"type\":\"LinearScale\"},{\"attributes\":{},\"id\":\"1828\",\"type\":\"AllLabels\"},{\"attributes\":{},\"id\":\"1813\",\"type\":\"HelpTool\"},{\"attributes\":{},\"id\":\"1830\",\"type\":\"BasicTickFormatter\"},{\"attributes\":{},\"id\":\"1873\",\"type\":\"Selection\"},{\"attributes\":{\"axis\":{\"id\":\"1800\"},\"ticker\":null},\"id\":\"1803\",\"type\":\"Grid\"},{\"attributes\":{},\"id\":\"1809\",\"type\":\"WheelZoomTool\"},{\"attributes\":{},\"id\":\"1853\",\"type\":\"Selection\"},{\"attributes\":{},\"id\":\"1811\",\"type\":\"SaveTool\"},{\"attributes\":{\"fill_color\":{\"value\":\"#1f77b4\"},\"line_color\":{\"value\":\"red\"},\"marker\":{\"value\":\"cross\"},\"x\":{\"field\":\"x\"},\"y\":{\"field\":\"y\"}},\"id\":\"1840\",\"type\":\"Scatter\"},{\"attributes\":{},\"id\":\"1874\",\"type\":\"UnionRenderers\"},{\"attributes\":{},\"id\":\"1831\",\"type\":\"AllLabels\"},{\"attributes\":{\"active_multi\":null,\"tools\":[{\"id\":\"1808\"},{\"id\":\"1809\"},{\"id\":\"1810\"},{\"id\":\"1811\"},{\"id\":\"1812\"},{\"id\":\"1813\"}]},\"id\":\"1815\",\"type\":\"Toolbar\"},{\"attributes\":{},\"id\":\"1833\",\"type\":\"BasicTickFormatter\"},{\"attributes\":{},\"id\":\"1854\",\"type\":\"UnionRenderers\"},{\"attributes\":{\"line_alpha\":0.1,\"line_color\":\"#1f77b4\",\"line_width\":2,\"x\":{\"field\":\"x\"},\"y\":{\"field\":\"y\"}},\"id\":\"1824\",\"type\":\"Line\"},{\"attributes\":{},\"id\":\"1812\",\"type\":\"ResetTool\"},{\"attributes\":{\"source\":{\"id\":\"1822\"}},\"id\":\"1826\",\"type\":\"CDSView\"},{\"attributes\":{\"line_color\":\"#1f77b4\",\"line_width\":2,\"x\":{\"field\":\"x\"},\"y\":{\"field\":\"y\"}},\"id\":\"1823\",\"type\":\"Line\"},{\"attributes\":{\"overlay\":{\"id\":\"1814\"}},\"id\":\"1810\",\"type\":\"BoxZoomTool\"},{\"attributes\":{},\"id\":\"1808\",\"type\":\"PanTool\"},{\"attributes\":{\"label\":{\"value\":\"Global Mean\"},\"renderers\":[{\"id\":\"1825\"}]},\"id\":\"1838\",\"type\":\"LegendItem\"},{\"attributes\":{\"items\":[{\"id\":\"1838\"},{\"id\":\"1856\"},{\"id\":\"1876\"}]},\"id\":\"1837\",\"type\":\"Legend\"},{\"attributes\":{},\"id\":\"1805\",\"type\":\"BasicTicker\"},{\"attributes\":{\"fill_color\":{\"value\":\"#1f77b4\"},\"line_color\":{\"value\":\"Green\"},\"marker\":{\"value\":\"cross\"},\"x\":{\"field\":\"x\"},\"y\":{\"field\":\"y\"}},\"id\":\"1858\",\"type\":\"Scatter\"},{\"attributes\":{\"axis\":{\"id\":\"1804\"},\"dimension\":1,\"ticker\":null},\"id\":\"1807\",\"type\":\"Grid\"},{\"attributes\":{\"data\":{\"x\":[\"1960\",\"1961\",\"1962\",\"1963\",\"1964\",\"1965\",\"1966\",\"1967\",\"1968\",\"1969\",\"1970\",\"1971\",\"1972\",\"1973\",\"1974\",\"1975\",\"1976\",\"1977\",\"1978\",\"1979\",\"1980\",\"1981\",\"1982\",\"1983\",\"1984\",\"1985\",\"1986\",\"1987\",\"1988\",\"1989\",\"1990\",\"1991\",\"1992\",\"1993\",\"1994\",\"1995\",\"1996\",\"1997\",\"1998\",\"1999\",\"2000\",\"2001\",\"2002\",\"2003\",\"2004\",\"2005\",\"2006\",\"2007\",\"2008\",\"2009\",\"2010\",\"2011\",\"2012\",\"2013\",\"2014\",\"2015\",\"2016\"],\"y\":[\"NaN\",176.91514132840544,180.70323050794593,184.57241256109344,188.46179693657592,192.41236330666325,196.14504169614247,200.11806255626678,203.879464389718,207.33610181304104,210.60787064082177,213.48969393068052,215.99847537207978,218.43870788704376,220.62121004259265,223.04637519433024,224.96025763925198,227.0067342173188,229.1873062407636,232.51077226706067,236.18535672882635,240.7895080438641,246.17517809033163,251.3423894719884,256.6478215554073,261.6807506547611,266.6470381207154,271.7683000551185,276.8132590801086,281.8500544091743,286.0623871161408,288.2925657814559,293.30541582390026,297.7591598237128,302.2754632081671,304.53727599332007,309.7149482330929,313.8969349401545,320.40598102076814,324.0046693079564,327.27075970951086,312.25956971997635,313.26904257356557,315.8476133540732,317.7465585486515,322.6695344714618,326.9079713506048,331.99547408201454,338.68841727220155,343.64920577650673,347.96702857044494,351.94202734671825,357.78730527189884,360.98572564595446,364.8491936638938,368.7066010400187,\"NaN\"]},\"selected\":{\"id\":\"1834\"},\"selection_policy\":{\"id\":\"1835\"}},\"id\":\"1822\",\"type\":\"ColumnDataSource\"},{\"attributes\":{\"axis_label\":\"Population Density\",\"formatter\":{\"id\":\"1830\"},\"major_label_policy\":{\"id\":\"1828\"},\"ticker\":{\"id\":\"1805\"}},\"id\":\"1804\",\"type\":\"LinearAxis\"},{\"attributes\":{\"data\":{\"x\":[\"1960\",\"1961\",\"1962\",\"1963\",\"1964\",\"1965\",\"1966\",\"1967\",\"1968\",\"1969\",\"1970\",\"1971\",\"1972\",\"1973\",\"1974\",\"1975\",\"1976\",\"1977\",\"1978\",\"1979\",\"1980\",\"1981\",\"1982\",\"1983\",\"1984\",\"1985\",\"1986\",\"1987\",\"1988\",\"1989\",\"1990\",\"1991\",\"1992\",\"1993\",\"1994\",\"1995\",\"1996\",\"1997\",\"1998\",\"1999\",\"2000\",\"2001\",\"2002\",\"2003\",\"2004\",\"2005\",\"2006\",\"2007\",\"2008\",\"2009\",\"2010\",\"2011\",\"2012\",\"2013\",\"2014\",\"2015\",\"2016\"],\"y\":[[\"NaN\"],[108.845125810317],[110.980368060463],[113.170911548742],[115.438262312206],[117.794709514885],[120.255614611816],[122.830194476021],[125.521521398507],[128.338812252297],[131.275922455375],[134.33592429875],[137.509600909398],[140.787735414298],[144.145749485391],[147.562137085625],[151.027681341977],[154.520876217395],[158.026360256844],[161.52262742327],[164.982027097607],[168.121908507174],[171.086669329319],[174.060647024486],[177.246612799164],[180.859627023872],[185.102460905097],[189.713969707211],[194.362346001413],[199.004577713601],[202.822513748502],[206.588220836278],[210.29862668592],[213.968171065163],[217.5934744539],[221.191127223571],[224.758671541368],[228.292420658085],[231.823711941995],[235.327352606839],[249.568893461069],[252.72589925745],[256.118821445822],[259.513658206212],[262.638758989906],[265.720966233431],[268.685135614539],[271.61124907279],[274.514464475764],[277.437352855807],[280.3641113297],[283.356338891218],[286.416615602928],[289.48140742413],[292.607798239107],[295.751926984229],[\"NaN\"]]},\"selected\":{\"id\":\"1873\"},\"selection_policy\":{\"id\":\"1874\"}},\"id\":\"1857\",\"type\":\"ColumnDataSource\"},{\"attributes\":{\"text\":\"Global Mean Population Density compared to Vietnam and Japan\"},\"id\":\"1790\",\"type\":\"Title\"},{\"attributes\":{\"data_source\":{\"id\":\"1822\"},\"glyph\":{\"id\":\"1823\"},\"hover_glyph\":null,\"muted_glyph\":null,\"nonselection_glyph\":{\"id\":\"1824\"},\"view\":{\"id\":\"1826\"}},\"id\":\"1825\",\"type\":\"GlyphRenderer\"},{\"attributes\":{\"data\":{\"x\":[\"1960\",\"1961\",\"1962\",\"1963\",\"1964\",\"1965\",\"1966\",\"1967\",\"1968\",\"1969\",\"1970\",\"1971\",\"1972\",\"1973\",\"1974\",\"1975\",\"1976\",\"1977\",\"1978\",\"1979\",\"1980\",\"1981\",\"1982\",\"1983\",\"1984\",\"1985\",\"1986\",\"1987\",\"1988\",\"1989\",\"1990\",\"1991\",\"1992\",\"1993\",\"1994\",\"1995\",\"1996\",\"1997\",\"1998\",\"1999\",\"2000\",\"2001\",\"2002\",\"2003\",\"2004\",\"2005\",\"2006\",\"2007\",\"2008\",\"2009\",\"2010\",\"2011\",\"2012\",\"2013\",\"2014\",\"2015\",\"2016\"],\"y\":[[\"NaN\"],[258.911917098446],[261.336242159804],[264.008726479411],[266.77392964276],[269.656394873193],[272.129806381238],[274.679574584129],[275.59585492228],[281.352604308699],[284.55140441778],[288.238341968912],[292.384069830878],[294.814511729405],[300.496453900709],[305.429740791269],[307.697135061392],[310.761462882096],[313.586244541485],[316.239082969432],[318.815178815179],[321.091703056769],[323.454396504642],[325.666302566903],[329.086920756786],[331.195831047724],[333.128598848369],[334.862863411958],[336.294569391114],[337.674163466813],[338.828853538124],[339.882062534284],[340.726823916621],[341.568842567197],[342.734503565551],[344.04552934723],[345.012345679012],[345.835390946502],[346.776406035665],[347.410150891632],[347.991769547325],[348.831275720165],[349.643347050754],[350.39231824417],[350.510288065844],[350.543209876543],[350.765432098765],[351.168724279835],[351.338820301783],[351.294924554184],[351.30983404197],[350.611778743948],[349.905335198596],[349.294000987492],[348.726684222076],[348.251239850779],[\"NaN\"]]},\"selected\":{\"id\":\"1853\"},\"selection_policy\":{\"id\":\"1854\"}},\"id\":\"1839\",\"type\":\"ColumnDataSource\"}],\"root_ids\":[\"1789\"]},\"title\":\"Bokeh Application\",\"version\":\"2.3.2\"}};\n",
       "  var render_items = [{\"docid\":\"a561d50a-9110-4b72-8fd7-297b674ef18b\",\"root_ids\":[\"1789\"],\"roots\":{\"1789\":\"ad55a60a-4e27-493d-923d-d58b44506315\"}}];\n",
       "  root.Bokeh.embed.embed_items_notebook(docs_json, render_items);\n",
       "\n",
       "  }\n",
       "  if (root.Bokeh !== undefined) {\n",
       "    embed_document(root);\n",
       "  } else {\n",
       "    var attempts = 0;\n",
       "    var timer = setInterval(function(root) {\n",
       "      if (root.Bokeh !== undefined) {\n",
       "        clearInterval(timer);\n",
       "        embed_document(root);\n",
       "      } else {\n",
       "        attempts++;\n",
       "        if (attempts > 100) {\n",
       "          clearInterval(timer);\n",
       "          console.log(\"Bokeh: ERROR: Unable to run BokehJS code because BokehJS library is missing\");\n",
       "        }\n",
       "      }\n",
       "    }, 10, root)\n",
       "  }\n",
       "})(window);"
      ],
      "application/vnd.bokehjs_exec.v0+json": ""
     },
     "metadata": {
      "application/vnd.bokehjs_exec.v0+json": {
       "id": "1789"
      }
     },
     "output_type": "display_data"
    }
   ],
   "source": [
    "# plotting the global population density change and the one for Japan\n",
    "plot = figure(title='Global Mean Population Density compared to Vietnam and Japan',\n",
    "                x_axis_label='Year', y_axis_label='Population Density')\n",
    "plot.line(years, mean_pop_vals, line_width=2, legend_label='Global Mean')\n",
    "plot.cross(years, jp_vals, legend_label='Japan', line_color='red')\n",
    "plot.cross(years, vn_vals, legend_label= 'Vietnam', line_color='Green')\n",
    "show(plot)"
   ]
  },
  {
   "cell_type": "markdown",
   "id": "37b2125b",
   "metadata": {},
   "source": [
    "# Iteractive"
   ]
  },
  {
   "cell_type": "code",
   "execution_count": 15,
   "id": "f287b438",
   "metadata": {},
   "outputs": [],
   "source": [
    "dataset = pd.read_csv('./data/stock_prices.csv')"
   ]
  },
  {
   "cell_type": "code",
   "execution_count": 16,
   "id": "39dd64d3",
   "metadata": {},
   "outputs": [
    {
     "data": {
      "text/html": [
       "<div>\n",
       "<style scoped>\n",
       "    .dataframe tbody tr th:only-of-type {\n",
       "        vertical-align: middle;\n",
       "    }\n",
       "\n",
       "    .dataframe tbody tr th {\n",
       "        vertical-align: top;\n",
       "    }\n",
       "\n",
       "    .dataframe thead th {\n",
       "        text-align: right;\n",
       "    }\n",
       "</style>\n",
       "<table border=\"1\" class=\"dataframe\">\n",
       "  <thead>\n",
       "    <tr style=\"text-align: right;\">\n",
       "      <th></th>\n",
       "      <th>date</th>\n",
       "      <th>symbol</th>\n",
       "      <th>open</th>\n",
       "      <th>close</th>\n",
       "      <th>low</th>\n",
       "      <th>high</th>\n",
       "      <th>volume</th>\n",
       "    </tr>\n",
       "  </thead>\n",
       "  <tbody>\n",
       "    <tr>\n",
       "      <th>0</th>\n",
       "      <td>2016-01-05 00:00:00</td>\n",
       "      <td>WLTW</td>\n",
       "      <td>123.430000</td>\n",
       "      <td>125.839996</td>\n",
       "      <td>122.309998</td>\n",
       "      <td>126.250000</td>\n",
       "      <td>2163600.0</td>\n",
       "    </tr>\n",
       "    <tr>\n",
       "      <th>1</th>\n",
       "      <td>2016-01-06 00:00:00</td>\n",
       "      <td>WLTW</td>\n",
       "      <td>125.239998</td>\n",
       "      <td>119.980003</td>\n",
       "      <td>119.940002</td>\n",
       "      <td>125.540001</td>\n",
       "      <td>2386400.0</td>\n",
       "    </tr>\n",
       "    <tr>\n",
       "      <th>2</th>\n",
       "      <td>2016-01-07 00:00:00</td>\n",
       "      <td>WLTW</td>\n",
       "      <td>116.379997</td>\n",
       "      <td>114.949997</td>\n",
       "      <td>114.930000</td>\n",
       "      <td>119.739998</td>\n",
       "      <td>2489500.0</td>\n",
       "    </tr>\n",
       "    <tr>\n",
       "      <th>3</th>\n",
       "      <td>2016-01-08 00:00:00</td>\n",
       "      <td>WLTW</td>\n",
       "      <td>115.480003</td>\n",
       "      <td>116.620003</td>\n",
       "      <td>113.500000</td>\n",
       "      <td>117.440002</td>\n",
       "      <td>2006300.0</td>\n",
       "    </tr>\n",
       "    <tr>\n",
       "      <th>4</th>\n",
       "      <td>2016-01-11 00:00:00</td>\n",
       "      <td>WLTW</td>\n",
       "      <td>117.010002</td>\n",
       "      <td>114.970001</td>\n",
       "      <td>114.089996</td>\n",
       "      <td>117.330002</td>\n",
       "      <td>1408600.0</td>\n",
       "    </tr>\n",
       "  </tbody>\n",
       "</table>\n",
       "</div>"
      ],
      "text/plain": [
       "                  date symbol        open       close         low        high  \\\n",
       "0  2016-01-05 00:00:00   WLTW  123.430000  125.839996  122.309998  126.250000   \n",
       "1  2016-01-06 00:00:00   WLTW  125.239998  119.980003  119.940002  125.540001   \n",
       "2  2016-01-07 00:00:00   WLTW  116.379997  114.949997  114.930000  119.739998   \n",
       "3  2016-01-08 00:00:00   WLTW  115.480003  116.620003  113.500000  117.440002   \n",
       "4  2016-01-11 00:00:00   WLTW  117.010002  114.970001  114.089996  117.330002   \n",
       "\n",
       "      volume  \n",
       "0  2163600.0  \n",
       "1  2386400.0  \n",
       "2  2489500.0  \n",
       "3  2006300.0  \n",
       "4  1408600.0  "
      ]
     },
     "execution_count": 16,
     "metadata": {},
     "output_type": "execute_result"
    }
   ],
   "source": [
    "dataset.head()"
   ]
  },
  {
   "cell_type": "code",
   "execution_count": 17,
   "id": "aea7e080",
   "metadata": {},
   "outputs": [],
   "source": [
    "# mapping the date of each row to only the year-month-day format\n",
    "from datetime import datetime\n",
    "def shorten_time_stamp(timestamp):\n",
    "    shortened = timestamp[0]\n",
    "    if len(shortened) > 10:\n",
    "        parsed_date=datetime.strptime(shortened, '%Y-%m-%d %H:%M:%S')\n",
    "        shortened=datetime.strftime(parsed_date, '%Y-%m-%d')\n",
    "    return shortened\n",
    "dataset['short_date'] = dataset.apply(lambda x: shorten_time_stamp(x), axis=1)"
   ]
  },
  {
   "cell_type": "code",
   "execution_count": 18,
   "id": "e2e0c976",
   "metadata": {},
   "outputs": [
    {
     "data": {
      "text/html": [
       "<div>\n",
       "<style scoped>\n",
       "    .dataframe tbody tr th:only-of-type {\n",
       "        vertical-align: middle;\n",
       "    }\n",
       "\n",
       "    .dataframe tbody tr th {\n",
       "        vertical-align: top;\n",
       "    }\n",
       "\n",
       "    .dataframe thead th {\n",
       "        text-align: right;\n",
       "    }\n",
       "</style>\n",
       "<table border=\"1\" class=\"dataframe\">\n",
       "  <thead>\n",
       "    <tr style=\"text-align: right;\">\n",
       "      <th></th>\n",
       "      <th>date</th>\n",
       "      <th>symbol</th>\n",
       "      <th>open</th>\n",
       "      <th>close</th>\n",
       "      <th>low</th>\n",
       "      <th>high</th>\n",
       "      <th>volume</th>\n",
       "      <th>short_date</th>\n",
       "    </tr>\n",
       "  </thead>\n",
       "  <tbody>\n",
       "    <tr>\n",
       "      <th>0</th>\n",
       "      <td>2016-01-05 00:00:00</td>\n",
       "      <td>WLTW</td>\n",
       "      <td>123.430000</td>\n",
       "      <td>125.839996</td>\n",
       "      <td>122.309998</td>\n",
       "      <td>126.250000</td>\n",
       "      <td>2163600.0</td>\n",
       "      <td>2016-01-05</td>\n",
       "    </tr>\n",
       "    <tr>\n",
       "      <th>1</th>\n",
       "      <td>2016-01-06 00:00:00</td>\n",
       "      <td>WLTW</td>\n",
       "      <td>125.239998</td>\n",
       "      <td>119.980003</td>\n",
       "      <td>119.940002</td>\n",
       "      <td>125.540001</td>\n",
       "      <td>2386400.0</td>\n",
       "      <td>2016-01-06</td>\n",
       "    </tr>\n",
       "  </tbody>\n",
       "</table>\n",
       "</div>"
      ],
      "text/plain": [
       "                  date symbol        open       close         low        high  \\\n",
       "0  2016-01-05 00:00:00   WLTW  123.430000  125.839996  122.309998  126.250000   \n",
       "1  2016-01-06 00:00:00   WLTW  125.239998  119.980003  119.940002  125.540001   \n",
       "\n",
       "      volume  short_date  \n",
       "0  2163600.0  2016-01-05  \n",
       "1  2386400.0  2016-01-06  "
      ]
     },
     "execution_count": 18,
     "metadata": {},
     "output_type": "execute_result"
    }
   ],
   "source": [
    "dataset.head(2)"
   ]
  },
  {
   "cell_type": "code",
   "execution_count": 19,
   "id": "087ae82b",
   "metadata": {},
   "outputs": [],
   "source": [
    "from ipywidgets import interact, interact_manual"
   ]
  },
  {
   "cell_type": "code",
   "execution_count": 20,
   "id": "1639f424",
   "metadata": {},
   "outputs": [
    {
     "data": {
      "application/vnd.jupyter.widget-view+json": {
       "model_id": "05af8096deb54d2fba4861f2fdeeb998",
       "version_major": 2,
       "version_minor": 0
      },
      "text/plain": [
       "interactive(children=(Checkbox(value=False, description='Value'), Output()), _dom_classes=('widget-interact',)…"
      ]
     },
     "metadata": {},
     "output_type": "display_data"
    }
   ],
   "source": [
    "# creating a checkbox\n",
    "@interact(Value=False)\n",
    "def checkbox(Value=False):\n",
    "    print(Value)"
   ]
  },
  {
   "cell_type": "code",
   "execution_count": 21,
   "id": "41327cef",
   "metadata": {},
   "outputs": [
    {
     "data": {
      "application/vnd.jupyter.widget-view+json": {
       "model_id": "2cd7ee1e86744a9fa9c897ec132f8e93",
       "version_major": 2,
       "version_minor": 0
      },
      "text/plain": [
       "interactive(children=(Dropdown(description='Value', options=('Option1', 'Option2', 'Option3', 'Option4'), valu…"
      ]
     },
     "metadata": {},
     "output_type": "display_data"
    }
   ],
   "source": [
    "# creating a dropdown\n",
    "options=['Option1', 'Option2', 'Option3', 'Option4']\n",
    "@interact(Value=options)\n",
    "def slider(Value=options[0]):\n",
    "    print(Value)"
   ]
  },
  {
   "cell_type": "code",
   "execution_count": 22,
   "id": "57341437",
   "metadata": {},
   "outputs": [
    {
     "data": {
      "application/vnd.jupyter.widget-view+json": {
       "model_id": "ea77a792a2fb410697bded1c7f259631",
       "version_major": 2,
       "version_minor": 0
      },
      "text/plain": [
       "interactive(children=(Text(value='Input Text', description='Value'), Output()), _dom_classes=('widget-interact…"
      ]
     },
     "metadata": {},
     "output_type": "display_data"
    }
   ],
   "source": [
    "# creating an input text\n",
    "@interact(Value='Input Text')\n",
    "def slider(Value):\n",
    "    print(Value)"
   ]
  },
  {
   "cell_type": "code",
   "execution_count": 23,
   "id": "24f9bbb7",
   "metadata": {},
   "outputs": [
    {
     "data": {
      "application/vnd.jupyter.widget-view+json": {
       "model_id": "6b5a8e7409274bc2928d47e07cfb812a",
       "version_major": 2,
       "version_minor": 0
      },
      "text/plain": [
       "interactive(children=(Dropdown(description='Select', options=('Option1', 'Option2', 'Option3', 'Option4'), val…"
      ]
     },
     "metadata": {},
     "output_type": "display_data"
    }
   ],
   "source": [
    "# multiple widgets with default layout\n",
    "options=['Option1', 'Option2', 'Option3', 'Option4']\n",
    "@interact(Select=options, Display=False)\n",
    "def uif(Select, Display):\n",
    "    print(Select, Display)"
   ]
  },
  {
   "cell_type": "code",
   "execution_count": 24,
   "id": "f5dd03d4",
   "metadata": {},
   "outputs": [
    {
     "data": {
      "application/vnd.jupyter.widget-view+json": {
       "model_id": "37af88cba4b844f99173c7901f787c56",
       "version_major": 2,
       "version_minor": 0
      },
      "text/plain": [
       "interactive(children=(IntSlider(value=0, description='Value'), Output()), _dom_classes=('widget-interact',))"
      ]
     },
     "metadata": {},
     "output_type": "display_data"
    }
   ],
   "source": [
    "# creating an int slider with dynamic updates\n",
    "@interact(Value=(0, 100))\n",
    "def slider(Value=0):\n",
    "    print(Value)"
   ]
  },
  {
   "cell_type": "code",
   "execution_count": 25,
   "id": "de9acbd8",
   "metadata": {},
   "outputs": [
    {
     "data": {
      "application/vnd.jupyter.widget-view+json": {
       "model_id": "703f987214b6493ea4de6b5cacd12abb",
       "version_major": 2,
       "version_minor": 0
      },
      "text/plain": [
       "interactive(children=(IntSlider(value=0, continuous_update=False, description='Value'), Output()), _dom_classe…"
      ]
     },
     "metadata": {},
     "output_type": "display_data"
    }
   ],
   "source": [
    "# creating an int slider that only triggers on mouse release\n",
    "from ipywidgets import IntSlider\n",
    "slider=IntSlider(min=0, max=100, continuous_update=False)\n",
    "@interact(Value=slider)\n",
    "def slider(Value=0.0):\n",
    "    print(Value)"
   ]
  },
  {
   "cell_type": "code",
   "execution_count": 26,
   "id": "964d0b29",
   "metadata": {},
   "outputs": [
    {
     "data": {
      "application/vnd.jupyter.widget-view+json": {
       "model_id": "551f18801b45448b9510cc0ff53dff22",
       "version_major": 2,
       "version_minor": 0
      },
      "text/plain": [
       "interactive(children=(FloatSlider(value=0.0, description='Value', step=0.5), Button(description='Run Interact'…"
      ]
     },
     "metadata": {},
     "output_type": "display_data"
    }
   ],
   "source": [
    "# creating a float slider 0.5 steps with manual update trigger\n",
    "@interact_manual(Value=(0.0, 100.0, 0.5))\n",
    "def slider(Value=0.0):\n",
    "    print(Value)"
   ]
  },
  {
   "cell_type": "code",
   "execution_count": 27,
   "id": "25341430",
   "metadata": {},
   "outputs": [],
   "source": [
    "from bokeh.models.widgets import Panel, Tabs\n",
    "from bokeh.plotting import figure, show"
   ]
  },
  {
   "cell_type": "code",
   "execution_count": 28,
   "id": "57da2530",
   "metadata": {},
   "outputs": [],
   "source": [
    "def get_plot(stock):\n",
    "    stock_name=stock['symbol'].unique()[0]\n",
    "    line_plot=figure(title='Stock prices',\n",
    "    x_axis_label='Date', x_range=stock['short_date'],\n",
    "    y_axis_label='Price in $USD')\n",
    "    line_plot.line(stock['short_date'], stock['high'], legend_label=stock_name)\n",
    "    line_plot.xaxis.major_label_orientation = 1\n",
    "    circle_plot=figure(title='Stock prices', x_axis_label='Date',\n",
    "    x_range=stock['short_date'], y_axis_label='Price in $USD')\n",
    "    circle_plot.circle(stock['short_date'], stock['high'], legend_label=stock_name)\n",
    "    circle_plot.xaxis.major_label_orientation = 1\n",
    "    line_tab=Panel(child=line_plot, title='Line')\n",
    "    circle_tab=Panel(child=circle_plot, title='Circles')\n",
    "    tabs = Tabs(tabs=[ line_tab, circle_tab ])\n",
    "    return tabs"
   ]
  },
  {
   "cell_type": "code",
   "execution_count": 29,
   "id": "0c48cf5e",
   "metadata": {},
   "outputs": [],
   "source": [
    "stock_names=dataset['symbol'].unique()"
   ]
  },
  {
   "cell_type": "code",
   "execution_count": 30,
   "id": "40128692",
   "metadata": {},
   "outputs": [
    {
     "data": {
      "application/vnd.jupyter.widget-view+json": {
       "model_id": "e423bd731d23477d93f572c2c0304958",
       "version_major": 2,
       "version_minor": 0
      },
      "text/plain": [
       "interactive(children=(Dropdown(description='Stock', index=4, options=('WLTW', 'A', 'AAL', 'AAP', 'AAPL', 'ABC'…"
      ]
     },
     "metadata": {},
     "output_type": "display_data"
    }
   ],
   "source": [
    "# creating the dropdown interaction and building the plot\n",
    "# based on selection\n",
    "@interact(Stock=stock_names)\n",
    "def get_stock_for(Stock='AAPL'):\n",
    "    stock = dataset[dataset['symbol'] == Stock][:25]\n",
    "    show(get_plot(stock))"
   ]
  },
  {
   "cell_type": "code",
   "execution_count": null,
   "id": "a26719d2",
   "metadata": {},
   "outputs": [],
   "source": []
  }
 ],
 "metadata": {
  "kernelspec": {
   "display_name": "Python 3",
   "language": "python",
   "name": "python3"
  },
  "language_info": {
   "codemirror_mode": {
    "name": "ipython",
    "version": 3
   },
   "file_extension": ".py",
   "mimetype": "text/x-python",
   "name": "python",
   "nbconvert_exporter": "python",
   "pygments_lexer": "ipython3",
   "version": "3.8.8"
  }
 },
 "nbformat": 4,
 "nbformat_minor": 5
}
